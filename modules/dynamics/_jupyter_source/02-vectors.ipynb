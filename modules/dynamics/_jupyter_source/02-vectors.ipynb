{
 "cells": [
  {
   "cell_type": "markdown",
   "metadata": {},
   "source": [
    "---\n",
    "title: Frames, Basis Vectors, and Vectors\n",
    "type: submodule\n",
    "---\n",
    "\n",
    "## Frames\n",
    "\n",
    "When analyzing a system, sometimes it's convenient or simple to represent a system in a specific way.  We all know of the Cartesian system of coordinates which span a three dimensional space, but did you know that there are an infinte number of ways to describe that same space?  Just as we are familiar with the x,y, and z directions, we can use different reference frames to navigate and represent the same coordinates and vectors in different ways.\n",
    "\n",
    "Take the example of your professor standing in front of you, giving a lecture.  If both of you were to stretch your right hand out to your right, you wouldn't be pointing in the same direction.  To get to the door behind youyour professor would say go forward.  Direction is relative to each of you based on your frame of reference.\n",
    "\n",
    "Sometimes the ability to select your directional representation is useful in dynamics, because depending on the representation, it may take many more or far fewer variables to do so.  For example, when discussing the motion of a plane or car, it is often useful to describe the forces acting on the plane from the car's perspective, even if you're more interested in where the plane goes relative to your perspective standing on the ground.  The planes perspective and the grounds perspective, in terms of their directional components, can be considered separate reference frames.\n",
    "\n",
    "## Basis Vectors\n",
    "The purpose of a reference frame is to hold a set of unique *basis vectors* which in linear algebra terms span an $R^3$ space.  As long as these basis vectors span the space, they are capable of describing any vector within that space, a minimum requirement for a 3 dimensional reference frame.  However, there are some other useful qualities of these basis vectors which typically make life easier, which are also enforced in *pynamics*.\n",
    "\n",
    "**Orthogonal:**  The basis vectors in an orthogonal reference frame are themselves orthogonal, or mutually perpendicular to each other.  This means that there are no shared components of vectors; each basis vector is completely independent of each other.  a more mathy way to describe this is that $\\vec{b}_1 \\cdot \\vec{b}_2 =0$, where $\\vec{b}_1$ and $\\vec{b}_2$ are any two basis vectors in a reference frame.\n",
    "\n",
    "**Normal:** Basis vectors in a pynamics reference frame are *normal*, meaning their lengths have been normalized.  They are *unit vectors*.\n",
    "\n",
    "In Pynamics, frames are implemented as a Python class, and serve to hold three *orthonormal* (orthogonal and normal) vectors.  Frames can be named when created, and no two names can be the same; this name is applied to the x,y, and z basis vectors in each frame.  Thus, no two basis vectors may be named the same in *pynamics*.\n",
    "\n",
    "## Vectors\n",
    "\n",
    "Vectors in *pynamics* are represented as linear combinations of basis vectors from one or more frames.  Once frames are created, the basis vectors they contain may be combined with other literal or symbolic variables to create symbolic vector expressions.\n",
    "\n",
    "Vectors are represented as a Python class, and leverage the ability to overload Python's mathematical operators with other functionality.  In this way, common operators such as $+$,$-$,$*$ and $/$ take on their own meaning when used in expressions with scalars, vectors, dyads, or dyadics.  In this way\n",
    "\n",
    "Vectors cannot be created without a reference frame.  Therefore, each frame supplies three orthogonal unit basis vectors which contain all the frame's information and which can be used to construct a vector.  \n",
    "\n",
    "## Math\n",
    "Vectors have a number of general properties that are all made possible in pynamics.  Below is a list of valid operations and their result.\n",
    "\n",
    "| Operation | Operator | Other  | Vector Order | Result                           | Commutative |\n",
    "|:----------|:---------|:-------|:-------------|:---------------------------------|:------------|\n",
    "| Addition  | +        | vector | before       | $\\vec{v}+\\vec{v}_{other}$        | y           |\n",
    "| Addition  | +        | vector | after        | $s\\vec{v}$                       | y           |\n",
    "| Addition  | *        | vector | before       | $s\\vec{v}$                       | y           |\n",
    "| Addition  | *        | vector | after        | $s\\vec{v}$                       | y           |\n",
    "| dot       | .dot()   | vector | before       | $\\vec{v}_{other} \\cdot \\vec{v}$  | y           |\n",
    "| dot       | .dot()   | vector | after        | $\\vec{v} \\cdot \\vec{v}_{other}$  | y           |\n",
    "| cross     | .cross() | vector | before       | $\\vec{v}_{other} \\times \\vec{v}$ | n           |\n",
    "| cross     | .cross() | vector | after        | $\\vec{v} \\times \\vec{v}_{other}$ | n           |\n",
    "\n",
    "Note: at this time, division with scalars, ie\n",
    "```{.python}\n",
    "v/s\n",
    "```\n",
    "is not possible.  Instead, simply invert the scalar and then multiply, as with \n",
    "```{.python}\n",
    "(1/s)*v\n",
    "```"
   ]
  },
  {
   "cell_type": "code",
   "execution_count": 1,
   "metadata": {},
   "outputs": [],
   "source": [
    "import pynamics\n",
    "from pynamics.system import System\n",
    "from pynamics.frame import Frame\n",
    "\n",
    "system = System()\n",
    "pynamics.set_system(__name__,system)\n",
    "\n",
    "A = Frame('A');\n",
    "B = Frame('B');\n",
    "C = Frame('C');"
   ]
  },
  {
   "cell_type": "markdown",
   "metadata": {},
   "source": [
    "Vector addition works out of the box because vectors don't necessarily need to be represented using each others' basis vectors"
   ]
  },
  {
   "cell_type": "code",
   "execution_count": 2,
   "metadata": {},
   "outputs": [
    {
     "data": {
      "text/plain": [
       "A.x + B.y + C.z"
      ]
     },
     "execution_count": 2,
     "metadata": {},
     "output_type": "execute_result"
    }
   ],
   "source": [
    "v = A.x + B.y + C.z;\n",
    "v"
   ]
  },
  {
   "cell_type": "markdown",
   "metadata": {},
   "source": [
    "Additionally, multiplication with a scalar works well:"
   ]
  },
  {
   "cell_type": "code",
   "execution_count": 3,
   "metadata": {},
   "outputs": [
    {
     "name": "stdout",
     "output_type": "stream",
     "text": [
      "3*A.x + 3*B.y + 3*C.z\n",
      "3*A.x + 3*B.y + 3*C.z\n"
     ]
    }
   ],
   "source": [
    "s = 3\n",
    "print(s*v)\n",
    "print(v*s)"
   ]
  },
  {
   "cell_type": "markdown",
   "metadata": {},
   "source": [
    "Furthermore, dot and cross product works well for vectors expressed by the same basis vectors:"
   ]
  },
  {
   "cell_type": "code",
   "execution_count": 4,
   "metadata": {},
   "outputs": [
    {
     "name": "stdout",
     "output_type": "stream",
     "text": [
      "4\n",
      "6*A.x - 3*A.y - 8*A.z\n"
     ]
    }
   ],
   "source": [
    "v1 = 1*A.x+2*A.y\n",
    "v2 = 3*A.z+4*A.x\n",
    "print(v1.dot(v2))\n",
    "print(v1.cross(v2))"
   ]
  },
  {
   "cell_type": "markdown",
   "metadata": {},
   "source": [
    "However, out of the box, performing a dot or cross product with vectors composed of different basis vectors will not work, because a relationship needs to be established between them.  For example, the following code will produce a custom error saying, \"Frames don't share a common parent\"\n",
    "\n",
    "```python\n",
    "v1 = A.x+B.y\n",
    "v2 = B.z+C.x\n",
    "print(\"v1.dot(v2)=\",v1.dot(v2))\n",
    "print(\"v1.cross(v2)=\",v1.cross(v2))\n",
    "```\n",
    "\n",
    "This can be addressed by defining a relationship between frames through rotations."
   ]
  },
  {
   "cell_type": "code",
   "execution_count": 5,
   "metadata": {},
   "outputs": [],
   "source": [
    "import sympy\n",
    "a = sympy.symbols('a')\n",
    "b = sympy.symbols('b')\n",
    "\n",
    "B.rotate_fixed_axis_directed(A,[0,0,1],a,system)\n",
    "C.rotate_fixed_axis_directed(B,[0,1,0],b,system)"
   ]
  },
  {
   "cell_type": "markdown",
   "metadata": {},
   "source": [
    "Now the following code should work"
   ]
  },
  {
   "cell_type": "code",
   "execution_count": 6,
   "metadata": {
    "scrolled": false
   },
   "outputs": [
    {
     "name": "stdout",
     "output_type": "stream",
     "text": [
      "v1.dot(v2)= cos(a)*cos(b)\n",
      "v1.cross(v2)= -A.y + B.x*(sin(a)*sin(b) - sin(b) + 1) + B.y*sin(b)*cos(a) + B.z*(sin(a)*cos(b) - cos(b))\n"
     ]
    }
   ],
   "source": [
    "v1 = A.x+B.y\n",
    "v2 = B.z+C.x\n",
    "print(\"v1.dot(v2)=\",v1.dot(v2))\n",
    "print(\"v1.cross(v2)=\",v1.cross(v2))"
   ]
  },
  {
   "cell_type": "markdown",
   "metadata": {},
   "source": [
    "## Other Functions\n",
    "### Express\n",
    "\n",
    "If enough information is supplied, vectors can also be expressed in other reference frames.  This uses the rotation information stored when the frame rotations are defined to transform all basis vectors stored within a vector type into a desired type.  This can be useful for finding the shortest representation of a vector, or the resulting math.  For example,"
   ]
  },
  {
   "cell_type": "code",
   "execution_count": 7,
   "metadata": {},
   "outputs": [
    {
     "name": "stdout",
     "output_type": "stream",
     "text": [
      "B.x*cos(a) + B.y*(1 - sin(a))\n",
      "A.x*(1 - sin(a)) + A.y*cos(a)\n"
     ]
    }
   ],
   "source": [
    "print(v1.express(B))\n",
    "print(v1.express(A))"
   ]
  },
  {
   "cell_type": "markdown",
   "metadata": {},
   "source": [
    "produces quite similar size representations, but complex expressions may benefit from shorter representations.  Take this example where v is the cross product of vectors expressed in frames separated by two separate rotations."
   ]
  },
  {
   "cell_type": "code",
   "execution_count": 8,
   "metadata": {},
   "outputs": [
    {
     "data": {
      "text/plain": [
       "B.x*((-sin(a) + cos(a))*(-sin(b) + cos(b)) - 1) + B.y*(-(sin(a) + cos(a))*(-sin(b) + cos(b)) + sin(b) + cos(b)) + B.z*(-(-sin(a) + cos(a))*(sin(b) + cos(b)) + sin(a) + cos(a))"
      ]
     },
     "execution_count": 8,
     "metadata": {},
     "output_type": "execute_result"
    }
   ],
   "source": [
    "v = (A.x+A.y+A.z).cross(C.x+C.y+C.z)\n",
    "v"
   ]
  },
  {
   "cell_type": "markdown",
   "metadata": {},
   "source": [
    "When you express v in A, B, and C basis vectors, you will see that the middle frame is by far the shortest representation"
   ]
  },
  {
   "cell_type": "code",
   "execution_count": 9,
   "metadata": {},
   "outputs": [
    {
     "data": {
      "text/plain": [
       "A.x*(((-sin(a) + cos(a))*(-sin(b) + cos(b)) - 1)*cos(a) - (-(sin(a) + cos(a))*(-sin(b) + cos(b)) + sin(b) + cos(b))*sin(a)) + A.y*(((-sin(a) + cos(a))*(-sin(b) + cos(b)) - 1)*sin(a) + (-(sin(a) + cos(a))*(-sin(b) + cos(b)) + sin(b) + cos(b))*cos(a)) + A.z*(-(-sin(a) + cos(a))*(sin(b) + cos(b)) + sin(a) + cos(a))"
      ]
     },
     "execution_count": 9,
     "metadata": {},
     "output_type": "execute_result"
    }
   ],
   "source": [
    "v.express(A)"
   ]
  },
  {
   "cell_type": "code",
   "execution_count": 10,
   "metadata": {},
   "outputs": [
    {
     "data": {
      "text/plain": [
       "B.x*((-sin(a) + cos(a))*(-sin(b) + cos(b)) - 1) + B.y*(-(sin(a) + cos(a))*(-sin(b) + cos(b)) + sin(b) + cos(b)) + B.z*(-(-sin(a) + cos(a))*(sin(b) + cos(b)) + sin(a) + cos(a))"
      ]
     },
     "execution_count": 10,
     "metadata": {},
     "output_type": "execute_result"
    }
   ],
   "source": [
    "v.express(B)"
   ]
  },
  {
   "cell_type": "code",
   "execution_count": 11,
   "metadata": {},
   "outputs": [
    {
     "data": {
      "text/plain": [
       "C.x*(((-sin(a) + cos(a))*(-sin(b) + cos(b)) - 1)*cos(b) - (-(-sin(a) + cos(a))*(sin(b) + cos(b)) + sin(a) + cos(a))*sin(b)) + C.y*(-(sin(a) + cos(a))*(-sin(b) + cos(b)) + sin(b) + cos(b)) + C.z*(((-sin(a) + cos(a))*(-sin(b) + cos(b)) - 1)*sin(b) + (-(-sin(a) + cos(a))*(sin(b) + cos(b)) + sin(a) + cos(a))*cos(b))"
      ]
     },
     "execution_count": 11,
     "metadata": {},
     "output_type": "execute_result"
    }
   ],
   "source": [
    "v.express(C)"
   ]
  },
  {
   "cell_type": "code",
   "execution_count": 12,
   "metadata": {},
   "outputs": [],
   "source": [
    "del v,v1,v2,A,B,C,a,b,system"
   ]
  },
  {
   "cell_type": "markdown",
   "metadata": {},
   "source": [
    "This can have a real-world impact on the time to compute and integrate pynamics expressions\n",
    "\n",
    "### Derivatives\n",
    "Vectors can also have their time derivatives taken.  For this to be possible, the variables that define the magnitude and direction of vectors need to be explicitly defined if they are time-differentiable.  For more information on time-differentiable variables, see the variable-types module."
   ]
  },
  {
   "cell_type": "code",
   "execution_count": 13,
   "metadata": {},
   "outputs": [
    {
     "name": "stdout",
     "output_type": "stream",
     "text": [
      "pos =  x*A.x\n",
      "vel =  qA_d*x*A.y + x_d*A.x\n",
      "acc =  A.x*(-qA_d**2*x + x_dd) + A.y*(2*qA_d*x_d + qA_dd*x)\n"
     ]
    }
   ],
   "source": [
    "import pynamics\n",
    "\n",
    "from pynamics.frame import Frame\n",
    "from pynamics.variable_types import Differentiable,Constant,Variable\n",
    "from pynamics.system import System\n",
    "\n",
    "system = System()\n",
    "pynamics.set_system(__name__,system)\n",
    "\n",
    "N = Frame('N');\n",
    "A = Frame('A');\n",
    "\n",
    "qA,qA_d,qA_dd = Differentiable('qA',system)\n",
    "x,x_d,x_dd = Differentiable('x',system)\n",
    "\n",
    "system.set_newtonian(N)\n",
    "A.rotate_fixed_axis_directed(N,[0,0,1],qA,system)\n",
    "\n",
    "pos = x*A.x\n",
    "vel=pos.time_derivative(N)\n",
    "acc=vel.time_derivative(N)\n",
    "\n",
    "print('pos = ',pos)\n",
    "print('vel = ',vel)\n",
    "print('acc = ',acc)"
   ]
  },
  {
   "cell_type": "markdown",
   "metadata": {},
   "source": [
    "You can combine derivatives with the express function to print the derivative in other frames\n",
    "\n",
    "```python\n",
    "vel.express(N)\n",
    "acc.express(N)\n",
    "```"
   ]
  },
  {
   "cell_type": "markdown",
   "metadata": {},
   "source": [
    "## Use Cases\n",
    "\n",
    "Vectors are typically used in a number of cases\n",
    "\n",
    "* describing the kinematics of a structure\n",
    "* defining the magnitude and direction of a force, or the axis of rotation for a torque.\n",
    "* vectors may "
   ]
  }
 ],
 "metadata": {
  "kernelspec": {
   "display_name": "Python 3",
   "language": "python",
   "name": "python3"
  },
  "language_info": {
   "codemirror_mode": {
    "name": "ipython",
    "version": 3
   },
   "file_extension": ".py",
   "mimetype": "text/x-python",
   "name": "python",
   "nbconvert_exporter": "python",
   "pygments_lexer": "ipython3",
   "version": "3.8.5"
  }
 },
 "nbformat": 4,
 "nbformat_minor": 4
}
