{
 "cells": [
  {
   "cell_type": "markdown",
   "metadata": {},
   "source": [
    "---\n",
    "title: Euler-Bernoulli Beams\n",
    "type: submodule\n",
    "---\n",
    "\n",
    "# Euler-Bernoulli Beams\n",
    "\n",
    "The relationship between the bending moment and the radius of curvature($\\rho$) for a beam of Young's modulus $E$ and cross-sectional moment of inertia(second moment of area) $I$ is given by \n",
    "\n",
    "$$\n",
    "M=-\\frac{EI}{\\rho}\n",
    "$$\n",
    "\n",
    "Now let's say $\\omega(x)$ describes the deflection of a beam in the z direction as a function of its length, $x$.  When deflections are small -- assumed in the Euler-Bernoulli model, then the second derivative can serve as an approximate the radius of curvature (using the small angle approximation $\\sin{\\theta}=\\theta$), making\n",
    "\n",
    "$$\\frac{1}{\\rho} = \\frac{\\delta^2\\omega}{\\delta x^2}$$\n",
    "\n",
    "and\n",
    "\n",
    "$$M = -EI\\frac{\\delta^2 \\omega(x)}{\\delta x^2}$$\n",
    "\n",
    "$$\\frac{\\delta^2}{\\delta x^2}\\left(EI\\frac{\\delta^2 \\omega(x)}{\\delta x^2}\\right) = p(x)$$\n",
    "\n",
    "where $p$ is a distributed load, $E$ is Young's Modulus, and $I$ is the \n",
    "\n",
    "$$\\frac{\\delta^2 \\omega}{\\delta x^2} =\\frac{M}{EI}$$\n",
    "\n",
    "where $M$ is the moment, "
   ]
  },
  {
   "cell_type": "code",
   "execution_count": 1,
   "metadata": {},
   "outputs": [],
   "source": [
    "%matplotlib inline"
   ]
  },
  {
   "cell_type": "code",
   "execution_count": 2,
   "metadata": {},
   "outputs": [],
   "source": [
    "# -*- coding: utf-8 -*-\n",
    "\"\"\"\n",
    "copyright 2016-2017 Dan Aukes\n",
    "\"\"\"\n",
    "import matplotlib.pyplot as plt\n",
    "import sympy\n",
    "import numpy\n",
    "from sympy import pi\n",
    "b,h,theta,P,L,E,I,x,w,M,q,p,A,B,C,D,p0,M0=sympy.symbols('b,h,theta,P,L,E,I,x,w,M,q,p,A,B,C,D,p0,M0')"
   ]
  },
  {
   "cell_type": "code",
   "execution_count": 3,
   "metadata": {},
   "outputs": [],
   "source": [
    "def plot_x(w,subs1=None):\n",
    "    subs1 = subs1 or {}\n",
    "    w = w.subs(subs1)\n",
    "    unit = dict([(item,1) for item in w.atoms(sympy.Symbol) if item!=x])\n",
    "    unit.update(subs1)\n",
    "    w_num = w.subs(unit)\n",
    "    f_w = sympy.lambdify(x,w_num)\n",
    "\n",
    "    xn = numpy.r_[0:unit[L]:100j]\n",
    "    yn = f_w(xn)\n",
    "\n",
    "    plt.plot(xn,yn)\n",
    "    plt.axis('equal')"
   ]
  },
  {
   "cell_type": "markdown",
   "metadata": {},
   "source": [
    "First we need to compute $M(x)$, the moment on the beam as a function of the loading.\n"
   ]
  },
  {
   "cell_type": "code",
   "execution_count": 4,
   "metadata": {},
   "outputs": [],
   "source": [
    "M_dd = p"
   ]
  },
  {
   "cell_type": "code",
   "execution_count": 5,
   "metadata": {},
   "outputs": [
    {
     "data": {
      "text/latex": [
       "$\\displaystyle A + p x$"
      ],
      "text/plain": [
       "A + p*x"
      ]
     },
     "execution_count": 5,
     "metadata": {},
     "output_type": "execute_result"
    }
   ],
   "source": [
    "M_d = sympy.integrate(M_dd,(x,0,x)) + A\n",
    "M_d"
   ]
  },
  {
   "cell_type": "code",
   "execution_count": 6,
   "metadata": {},
   "outputs": [
    {
     "data": {
      "text/latex": [
       "$\\displaystyle A x + B + \\frac{p x^{2}}{2}$"
      ],
      "text/plain": [
       "A*x + B + p*x**2/2"
      ]
     },
     "execution_count": 6,
     "metadata": {},
     "output_type": "execute_result"
    }
   ],
   "source": [
    "M = sympy.integrate(M_d,(x,0,x)) + B\n",
    "M"
   ]
  },
  {
   "cell_type": "code",
   "execution_count": 7,
   "metadata": {},
   "outputs": [
    {
     "data": {
      "text/latex": [
       "$\\displaystyle \\frac{A x^{2}}{2 E I} + \\frac{B x}{E I} + C + \\frac{p x^{3}}{6 E I}$"
      ],
      "text/plain": [
       "A*x**2/(2*E*I) + B*x/(E*I) + C + p*x**3/(6*E*I)"
      ]
     },
     "execution_count": 7,
     "metadata": {},
     "output_type": "execute_result"
    }
   ],
   "source": [
    "w_d = sympy.integrate(M/E/I,(x,0,x)) + C\n",
    "w_d"
   ]
  },
  {
   "cell_type": "code",
   "execution_count": 8,
   "metadata": {},
   "outputs": [
    {
     "data": {
      "text/latex": [
       "$\\displaystyle \\frac{A x^{3}}{6 E I} + \\frac{B x^{2}}{2 E I} + C x + D + \\frac{p x^{4}}{24 E I}$"
      ],
      "text/plain": [
       "A*x**3/(6*E*I) + B*x**2/(2*E*I) + C*x + D + p*x**4/(24*E*I)"
      ]
     },
     "execution_count": 8,
     "metadata": {},
     "output_type": "execute_result"
    }
   ],
   "source": [
    "w = sympy.integrate(w_d,(x,0,x)) + D\n",
    "w"
   ]
  },
  {
   "cell_type": "markdown",
   "metadata": {},
   "source": [
    "For a point load $P$ exerted on a beam at length ($x=l$), the moment can be expressed as:\n",
    "\n",
    "$$M(x) = P(l-x)$$"
   ]
  },
  {
   "cell_type": "code",
   "execution_count": 9,
   "metadata": {},
   "outputs": [
    {
     "data": {
      "text/plain": [
       "{A: P, B: -L*P, p: 0, C: 0, D: 0}"
      ]
     },
     "execution_count": 9,
     "metadata": {},
     "output_type": "execute_result"
    }
   ],
   "source": [
    "eq1 = M_d.subs({x:L}) - P\n",
    "eq2 = M.subs({x:L}) - 0\n",
    "eq3 = w_d.subs({x:0}) - 0\n",
    "eq4 = w.subs({x:0}) - 0\n",
    "eq5 = M_dd - 0\n",
    "sol =sympy.solve([eq1,eq2,eq3,eq4,eq5],(A,B,C,D,p))\n",
    "sol"
   ]
  },
  {
   "cell_type": "code",
   "execution_count": 10,
   "metadata": {},
   "outputs": [
    {
     "data": {
      "text/latex": [
       "$\\displaystyle \\frac{P x^{2} \\left(- 3 L + x\\right)}{6 E I}$"
      ],
      "text/plain": [
       "P*x**2*(-3*L + x)/(6*E*I)"
      ]
     },
     "execution_count": 10,
     "metadata": {},
     "output_type": "execute_result"
    }
   ],
   "source": [
    "w2 = w.subs(sol)\n",
    "w2.simplify()"
   ]
  },
  {
   "cell_type": "code",
   "execution_count": 11,
   "metadata": {},
   "outputs": [
    {
     "data": {
      "text/latex": [
       "$\\displaystyle \\frac{P x \\left(- 2 L + x\\right)}{2 E I}$"
      ],
      "text/plain": [
       "P*x*(-2*L + x)/(2*E*I)"
      ]
     },
     "execution_count": 11,
     "metadata": {},
     "output_type": "execute_result"
    }
   ],
   "source": [
    "w_d2 = w_d.subs(sol)\n",
    "w_d2.simplify()"
   ]
  },
  {
   "cell_type": "code",
   "execution_count": 12,
   "metadata": {},
   "outputs": [
    {
     "data": {
      "text/latex": [
       "$\\displaystyle P \\left(- L + x\\right)$"
      ],
      "text/plain": [
       "P*(-L + x)"
      ]
     },
     "execution_count": 12,
     "metadata": {},
     "output_type": "execute_result"
    }
   ],
   "source": [
    "M2=M.subs(sol)\n",
    "M2.simplify()"
   ]
  },
  {
   "cell_type": "code",
   "execution_count": 13,
   "metadata": {},
   "outputs": [
    {
     "data": {
      "text/latex": [
       "$\\displaystyle - \\frac{L^{3} P}{3 E I}$"
      ],
      "text/plain": [
       "-L**3*P/(3*E*I)"
      ]
     },
     "execution_count": 13,
     "metadata": {},
     "output_type": "execute_result"
    }
   ],
   "source": [
    "w_max = w2.subs({x:L})\n",
    "w_max.simplify()"
   ]
  },
  {
   "cell_type": "code",
   "execution_count": 16,
   "metadata": {},
   "outputs": [
    {
     "data": {
      "text/latex": [
       "$\\displaystyle -0.004$"
      ],
      "text/plain": [
       "-0.00400000000000000"
      ]
     },
     "execution_count": 16,
     "metadata": {},
     "output_type": "execute_result"
    }
   ],
   "source": [
    "w_max = w_max.subs({I:b*h**3/12})\n",
    "w_max.subs({b:.01,h:.01,E:1e7,L:.1,P:.1})"
   ]
  },
  {
   "cell_type": "markdown",
   "metadata": {},
   "source": [
    "Now we can turn this process into a function"
   ]
  },
  {
   "cell_type": "code",
   "execution_count": null,
   "metadata": {},
   "outputs": [],
   "source": [
    "def calc_beam_equations(pp,E,I,eq):\n",
    "    M_dd = pp\n",
    "    M_d = sympy.integrate(M_dd,(x,0,x)) + A\n",
    "    M = sympy.integrate(M_d,(x,0,x)) + B\n",
    "    w_d = sympy.integrate(M/E/I,(x,0,x)) + C\n",
    "    w = sympy.integrate(w_d,(x,0,x)) + D\n",
    "\n",
    "    eq1 = M_d.subs(eq[0][0]) - eq[0][1]\n",
    "    eq2 = M.subs(eq[1][0]) - eq[1][1]\n",
    "    eq3 = w_d.subs(eq[2][0]) - eq[2][1]\n",
    "    eq4 = w.subs(eq[3][0]) - eq[3][1]\n",
    "    eq = [eq1,eq2,eq3,eq4]    \n",
    "    \n",
    "    sol =sympy.solve(eq,(A,B,C,D))\n",
    "\n",
    "    w2 = w.subs(sol)\n",
    "    w2 = w2.simplify()\n",
    "\n",
    "    w_d2 = w_d.subs(sol)\n",
    "    w_d2 = w_d2.simplify()\n",
    "\n",
    "    M2=M.subs(sol)\n",
    "    M2 = M2.simplify()\n",
    "\n",
    "    return w2,w_d2,M2"
   ]
  },
  {
   "cell_type": "markdown",
   "metadata": {},
   "source": [
    "Repeating the point load"
   ]
  },
  {
   "cell_type": "code",
   "execution_count": null,
   "metadata": {},
   "outputs": [],
   "source": [
    "eq1 = {x:L},P\n",
    "eq2 = {x:L},0\n",
    "eq3 = {x:0},0\n",
    "eq4 = {x:0},0\n",
    "eq = [eq1,eq2,eq3,eq4]"
   ]
  },
  {
   "cell_type": "code",
   "execution_count": null,
   "metadata": {},
   "outputs": [],
   "source": [
    "w,w_d,M = calc_beam_equations(0,E,I,eq)\n",
    "plot_x(w)"
   ]
  },
  {
   "cell_type": "markdown",
   "metadata": {},
   "source": [
    "For a distibuted load $p(x)$, \n"
   ]
  },
  {
   "cell_type": "code",
   "execution_count": null,
   "metadata": {},
   "outputs": [],
   "source": [
    "eq1 = {x:L},0\n",
    "eq2 = {x:L},0\n",
    "eq3 = {x:0},0\n",
    "eq4 = {x:0},0\n",
    "eq = [eq1,eq2,eq3,eq4]"
   ]
  },
  {
   "cell_type": "code",
   "execution_count": null,
   "metadata": {},
   "outputs": [],
   "source": [
    "w,w_d,M = calc_beam_equations(-p,E,I,eq)\n",
    "plot_x(w)"
   ]
  },
  {
   "cell_type": "code",
   "execution_count": null,
   "metadata": {},
   "outputs": [],
   "source": [
    "w"
   ]
  },
  {
   "cell_type": "code",
   "execution_count": null,
   "metadata": {},
   "outputs": [],
   "source": [
    "w_d"
   ]
  },
  {
   "cell_type": "code",
   "execution_count": null,
   "metadata": {},
   "outputs": [],
   "source": [
    "M"
   ]
  },
  {
   "cell_type": "code",
   "execution_count": null,
   "metadata": {},
   "outputs": [],
   "source": [
    "w_max = w.subs({x:L})\n",
    "w_max.simplify()"
   ]
  },
  {
   "cell_type": "markdown",
   "metadata": {},
   "source": [
    "For a distributed load where $p = p_0\\frac{L-x}{L}$, the boundary conditions stay the same but the function is different"
   ]
  },
  {
   "cell_type": "code",
   "execution_count": null,
   "metadata": {},
   "outputs": [],
   "source": [
    "w,w_d,M = calc_beam_equations(-(p0/L*(L-x)),E,I,eq)\n",
    "plot_x(w)"
   ]
  },
  {
   "cell_type": "code",
   "execution_count": null,
   "metadata": {},
   "outputs": [],
   "source": [
    "w"
   ]
  },
  {
   "cell_type": "code",
   "execution_count": null,
   "metadata": {},
   "outputs": [],
   "source": [
    "w_d"
   ]
  },
  {
   "cell_type": "code",
   "execution_count": null,
   "metadata": {},
   "outputs": [],
   "source": [
    "M"
   ]
  },
  {
   "cell_type": "code",
   "execution_count": null,
   "metadata": {},
   "outputs": [],
   "source": [
    "w_max = w.subs({x:L})\n",
    "w_max.simplify()"
   ]
  },
  {
   "cell_type": "code",
   "execution_count": null,
   "metadata": {},
   "outputs": [],
   "source": [
    "eq1 = {x:L},P\n",
    "eq2 = {x:L},0\n",
    "eq3 = {x:0},0\n",
    "eq4 = {x:0},0\n",
    "eq = [eq1,eq2,eq3,eq4]"
   ]
  },
  {
   "cell_type": "markdown",
   "metadata": {},
   "source": [
    "Now what about a cross sectional area that changes as a function of x?  As we know, the cross sectional moment of inertia $I$ for a rectangular beam of width $b$ and thickness $h$ is $$I=\\frac{bh^3}{12}$$.  If we make b a function of x, for example $b(x)=L-x$, what happens to the curvature?"
   ]
  },
  {
   "cell_type": "code",
   "execution_count": null,
   "metadata": {},
   "outputs": [],
   "source": [
    "b2=(L-x)\n",
    "I2 = b2*h**3/12"
   ]
  },
  {
   "cell_type": "code",
   "execution_count": null,
   "metadata": {},
   "outputs": [],
   "source": [
    "w,w_d,M = calc_beam_equations(0,E,I2,eq)\n",
    "plot_x(w,{P:.1,L:1})"
   ]
  },
  {
   "cell_type": "code",
   "execution_count": null,
   "metadata": {},
   "outputs": [],
   "source": [
    "w"
   ]
  },
  {
   "cell_type": "code",
   "execution_count": null,
   "metadata": {},
   "outputs": [],
   "source": [
    "w_d"
   ]
  },
  {
   "cell_type": "code",
   "execution_count": null,
   "metadata": {},
   "outputs": [],
   "source": [
    "M"
   ]
  },
  {
   "cell_type": "markdown",
   "metadata": {},
   "source": [
    "As you can see it grows linearly as a function of x.  Therefore, a cross section that decreases linearly is good at equalizing the radius of curvature (and the stresses) in a beam"
   ]
  },
  {
   "cell_type": "code",
   "execution_count": null,
   "metadata": {},
   "outputs": [],
   "source": [
    "eq1 = {x:L},P\n",
    "eq2 = {x:L},0\n",
    "eq3 = {x:0},0\n",
    "eq4 = {x:0},0\n",
    "eq = [eq1,eq2,eq3,eq4]"
   ]
  },
  {
   "cell_type": "code",
   "execution_count": null,
   "metadata": {},
   "outputs": [],
   "source": [
    "I2 = b*h**3/12"
   ]
  },
  {
   "cell_type": "code",
   "execution_count": null,
   "metadata": {},
   "outputs": [],
   "source": [
    "w,w_d,M = calc_beam_equations(0,E,I2,eq)\n",
    "subs1 = {b:.01,h:.01,E:1e7,L:.1,P:.1}\n",
    "w = w.subs(subs1)\n",
    "w"
   ]
  },
  {
   "cell_type": "code",
   "execution_count": null,
   "metadata": {},
   "outputs": [],
   "source": [
    "w_max = w.subs({x:.1})\n",
    "w_max"
   ]
  },
  {
   "cell_type": "code",
   "execution_count": null,
   "metadata": {},
   "outputs": [],
   "source": [
    "plot_x(w,subs1)"
   ]
  },
  {
   "cell_type": "code",
   "execution_count": null,
   "metadata": {},
   "outputs": [],
   "source": []
  }
 ],
 "metadata": {
  "kernelspec": {
   "display_name": "Python 3",
   "language": "python",
   "name": "python3"
  },
  "language_info": {
   "codemirror_mode": {
    "name": "ipython",
    "version": 3
   },
   "file_extension": ".py",
   "mimetype": "text/x-python",
   "name": "python",
   "nbconvert_exporter": "python",
   "pygments_lexer": "ipython3",
   "version": "3.7.9"
  }
 },
 "nbformat": 4,
 "nbformat_minor": 2
}
