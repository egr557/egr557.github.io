{
 "cells": [
  {
   "cell_type": "markdown",
   "metadata": {},
   "source": [
    "---\n",
    "title: Motor Modeling Process\n",
    "type: submodule\n",
    "---\n",
    "\n",
    "# Motor Modeling Process"
   ]
  },
  {
   "cell_type": "code",
   "execution_count": 1,
   "metadata": {},
   "outputs": [],
   "source": [
    "from math import sin, cos, pi\n",
    "import numpy\n",
    "import matplotlib.pyplot as plt\n",
    "%matplotlib inline  "
   ]
  },
  {
   "cell_type": "markdown",
   "metadata": {},
   "source": [
    "## Part 0: Module Overview\n",
    "\n",
    "The purpose of this writeup is to familiarize you with the level of engineering required for selecting a motor and geartrain for your project.  In this writup you will learn about the modeling, experimental, and design parameters you need in order to understand how to utilize a permanent-magnet DC motor in your project, how to pair it with a geartrain whose ratios you select, how to understand loss in your system, and how to select a battery\n",
    "\n",
    "### Example problem description\n",
    "\n",
    "Your team has decided to develop a self-balancing hoverboard for cats.  The system consists of two D.C. motors each attached to a belt drive which then attaches to two wheels.  Onboard is a motor controller, battery, housing, and bluetooth communication for throttle and brake.  The choice of motor, battery and belt drive are up to you, the designer.  \n",
    "\n",
    "The company has created the following target performance specifications:  ***The system must propel the hoverboard up a 10$^{\\circ}$ smooth concrete ramp while loaded with a 3 kg. rider at a speed of 3 m/sec for 1000 m.***\n",
    "\n",
    "Engineers make analytical models to determine the components that go together to create the product, in this case you are the engineer and you must choose:\n",
    "\n",
    "1.\tthe motor,\n",
    "2.\tthe battery, and\n",
    "3.\tthe belt drive pulley sizes.  \n",
    "\n",
    "![hoverboard and kitty-rider](/figures/motor_modeling/h1-cat.png)\n",
    "\n",
    "### List of Variables\n",
    "These variables may be needed in your equations.  Please do not substitute the supplied values till the last step of your solution, to verify that your expression is correct.\n",
    "\n",
    "|     Variable      | Description                          | Value  | Unit                 |\n",
    "|:-----------------:|:-------------------------------------|:-------|:---------------------|\n",
    "|        $r$        | radius of wheel                      | .04    | m                    |\n",
    "|     $r_{pm}$      | radius of pulley at the motor        | select | m                    |\n",
    "|     $r_{pw}$      | radius of pulley at the wheel        | select | m                    |\n",
    "|        $m$        | mass of rider, board, and components | 3      | kg                   |\n",
    "|        $g$        | gravity                              | 9.81   | m/s$^2$              |\n",
    "| $\\omega_{wheels}$ | angular velocity of wheel            | solve  | rad/sec              |\n",
    "| $\\omega_{motor}$  | angular velocity of motor            | select | rad/sec              |\n",
    "|        $q$        | angle of hill                        | 10     | $^{\\circ}$ (degrees) |\n",
    "|  $\\tau_{motor}$   | motor torque                         | select | N-m                  |\n",
    "|  $\\tau_{wheels}$  | wheel torque                         | solve  | N-m                  |\n",
    "|        $v$        | velocity                             | 3      | m/s                  |\n",
    "|        $d$        | distance                             | 1000   | m                    |"
   ]
  },
  {
   "cell_type": "code",
   "execution_count": 2,
   "metadata": {},
   "outputs": [],
   "source": [
    "r = .04\n",
    "mass = 3\n",
    "gravity = 9.81\n",
    "velocity = 3\n",
    "distance = 1000\n",
    "q = 10 * pi/180\n",
    "time = distance/velocity"
   ]
  },
  {
   "cell_type": "markdown",
   "metadata": {},
   "source": [
    "### Assumptions and Notes\n",
    "* there are 180 degrees in each $\\pi$ radians"
   ]
  },
  {
   "cell_type": "markdown",
   "metadata": {},
   "source": [
    "## Part I: Free Body Diagrams, Forces, & Mechanical Power\n",
    "\n",
    "\n",
    "### Problem Description\n",
    "\n",
    "The purpose of this part's motor assignment is to understand the mechanical power required to propel your hoverboard and rider up a hill at constant velocity.\n",
    "\n",
    "\n",
    "Remember that power is the scalar dot product of force and velocity or torque and angular velocity:\n",
    "$$p=\\vec{f}\\cdot \\vec{v} = \\vec{\\tau} \\cdot \\vec{\\omega}$$\n",
    "This gives you several ways to compute the mechanical power required.  If you know the torque at the wheels, then you will need to know how fast the wheels are spinning.  If you know the equivalent force at the wheel bearings, then you must find out the velocity of that point.  Either way you will need to find a force / torque term and the matching velocity / angular velocity term.\n",
    "\n",
    "One way to find the forces involved in your system is with a *free body diagram*.\n",
    "\n",
    "\n",
    "### Steps\n",
    "1.  Create a 2D sketch of the longboard going up a hill. (See Figure 1)\n",
    "1. Create a free body diagram for the wheel.  Draw and label all important variables and design parameters in your diagrams.  This includes things like dimensions, forces, velocities, angles, vectors.  Identify all forces acting upon each subsystem, including gravity, interaction forces between subsystems, and ground reaction forces.\n",
    "1. Use static force / moment balance equations to solve for static equilibrium in each subsystem.  In planar systems,\n",
    "$$\\begin{aligned}\n",
    "\\sum F_x &= 0\\\\\n",
    "\\sum F_y &= 0\\\\\n",
    "\\sum M &= 0\n",
    "\\end{aligned}$$\n",
    "Please expand these equations, using all forces and torques acting upon the wheel.\n",
    "1. Using the above equations, solve for $f_T$, the force required to push the mass($m$) of board and rider up the hill.\n",
    "1. Using the above equations, solve for the torque required at the wheels to achieve static equilibrium.\n",
    "1. Given the velocity specification given in the assignment, how fast do the wheels spin?  Remember the releationship between linear and angular velocity, $\\vec{v} = \\vec{\\omega} \\times \\vec{r}$, where $\\vec{v}$ is linear velocity, $\\vec{\\omega}$ is angular velocity, and $\\vec{r}$ is the vector to the point on the wheel's radius.\n",
    "1. Given the equations for power mentioned above, please calculate how much power is required to maintain the board's velocity up the hill.\n",
    "\n",
    "### Assumptions and Notes\n",
    "* It may be beneficial to use the B frame rather than the A frame to sum forces and torques\n",
    "* Assume a planar system, *ie* 2D.\n",
    "* Assume the rider is stationary on the board, with the mass of the system centered about the  wheel.\n",
    "* Keep all dimensions as variables throughout your work,  *ie*, if we say the velocity of the rider is 5 m/sec, use a variable like $v$ as you work through your equations.\n",
    "* Important terms are terms that are used in equations.\n",
    "\n",
    "\n",
    "\n",
    "### Numerical Solution\n",
    "#### (1-2)\n",
    "![Free Body Diagram](/figures/motor_modeling/fbd.png)\n",
    "\n",
    "#### (3 - 4)\n",
    "In front wheel, using the B frame, since it is free spinning, the ground can only supply a reaction force normal to the wheels, and no moments can be transmitted.\n",
    "\n",
    "$$\\begin{aligned}\n",
    "\\sum F_x &= 0\\\\\n",
    "\\sum F_y &= 0\\\\\n",
    "\\sum M &= 0\n",
    "\\end{aligned}$$\n",
    "\n",
    "if I first define $\\vec{f_R}$ as:\n",
    "$$\\vec{f}_R = f_{T}\\hat{b}_x + f_{N}\\hat{b}_y$$\n",
    "\n",
    "##### Rotation Matrix for Frames A and B\n",
    "$$\n",
    "\\begin{array}{c|c c c}\n",
    "  ^AR^B & \\hat{b}_x &\\hat{b}_y & \\hat{b}_z\\\\\n",
    "  \\hline\n",
    "  \\hat{a}_x &\\cos q&-\\sin q &0 \\\\\n",
    "  \\hat{a}_y &\\sin q& \\cos q &0 \\\\\n",
    "  \\hat{a}_z &0&0&1\n",
    " \\end{array}\n",
    "$$\n",
    "\n",
    "Summing forces along $b_x$:\n",
    "$$\\begin{aligned}\n",
    "0&=\\sum F_x\\\\\n",
    "0 &= f_{T}\\hat{b}_x - mg \\sin(q)\\hat{b}_x\\\\\n",
    "0 &= f_{T} - mg \\sin(q)\\\\\n",
    "f_{T} &= mg \\sin(q)\\\\\n",
    "\\end{aligned}$$\n"
   ]
  },
  {
   "cell_type": "code",
   "execution_count": 3,
   "metadata": {},
   "outputs": [
    {
     "data": {
      "text/plain": [
       "5.1104658687377595"
      ]
     },
     "execution_count": 3,
     "metadata": {},
     "output_type": "execute_result"
    }
   ],
   "source": [
    "ft = mass*gravity*sin(q)\n",
    "ft"
   ]
  },
  {
   "cell_type": "markdown",
   "metadata": {},
   "source": [
    "summing forces along $b_y$:\n",
    "$$\\begin{aligned}\n",
    "0&=\\sum F_y\\\\\n",
    "0 &= \\vec{f}_{N}\\hat{b}_y - mg \\cos(q)\\hat{b}_y\\\\\n",
    "0 &= \\vec{f}_{N} -\\frac{ mg \\cos(q)}{2} \\\\\n",
    "f_{N} &= mg \\cos(q)\\\\\n",
    "\\end{aligned}$$"
   ]
  },
  {
   "cell_type": "code",
   "execution_count": 4,
   "metadata": {},
   "outputs": [
    {
     "data": {
      "text/plain": [
       "28.98289217114928"
      ]
     },
     "execution_count": 4,
     "metadata": {},
     "output_type": "execute_result"
    }
   ],
   "source": [
    "fn = mass*gravity*cos(q)\n",
    "fn"
   ]
  },
  {
   "cell_type": "markdown",
   "metadata": {},
   "source": [
    "#### (5)\n",
    "Sum moments to find motor torque:\n",
    "$$\\begin{aligned}\n",
    "0&=\\sum M \\\\\n",
    "0&= -\\tau_{wheels} \\hat{b}_z + -r \\hat{b}_y \\times \\vec{f}_R\\\\\n",
    "0&= -\\tau_{wheels} \\hat{b}_z + -r \\hat{b}_y \\times \\left(f_t\\hat{b}_x + f_n \\hat{b}_y\\right)\\\\\n",
    "0&= -\\tau_{wheels} \\hat{b}_z + \\left(-r \\hat{b}_y \\times f_t\\hat{b}_x \\right)+\\left(-r \\hat{b}_y \\times f_n \\hat{b}_y\\right)\\\\\n",
    "0&= -\\tau_{wheels} \\hat{b}_z + rf_T \\hat{b}_z\\\\\n",
    "0&= -\\tau_{wheels}  + rf_T\\\\\n",
    "\\tau_{wheels}&= rf_T\\\\\n",
    "\\end{aligned}$$"
   ]
  },
  {
   "cell_type": "code",
   "execution_count": 5,
   "metadata": {},
   "outputs": [
    {
     "data": {
      "text/plain": [
       "0.2044186347495104"
      ]
     },
     "execution_count": 5,
     "metadata": {},
     "output_type": "execute_result"
    }
   ],
   "source": [
    "t_wheels = r*ft\n",
    "t_wheels"
   ]
  },
  {
   "cell_type": "markdown",
   "metadata": {},
   "source": [
    "#### (6)\n",
    "$$ v=\\omega_{wheels}r $$\n",
    "$$ \\omega_{wheels}r =v$$\n",
    "$$ \\omega_{wheels}=\\frac{v}{r} $$"
   ]
  },
  {
   "cell_type": "code",
   "execution_count": 6,
   "metadata": {},
   "outputs": [
    {
     "data": {
      "text/plain": [
       "75.0"
      ]
     },
     "execution_count": 6,
     "metadata": {},
     "output_type": "execute_result"
    }
   ],
   "source": [
    "w_wheels = velocity/r\n",
    "w_wheels"
   ]
  },
  {
   "cell_type": "markdown",
   "metadata": {},
   "source": [
    "#### (7)\n",
    "\n",
    "you can do this several ways.  First, use the force-velocity formulation for power:\n",
    "$$P = f_T* v = (mg \\sin(q)) * (v)$$\n",
    "\n",
    "Alternatively, use the torque - angular velocity version:\n",
    "$$P = t* \\omega = (rmg \\sin(q)) * (\\frac{v}{r})$$\n",
    "\n",
    "You can also do it a different way.  First calculate the total height change of the mass\n",
    "$$ h = d*sin(q)$$\n",
    "find the time it takes to get there:\n",
    "$$ t = d/v$$\n",
    "find the energy it takes to lift mg:\n",
    "$$PE = mgh $$\n",
    "and then find the average power as a function of energy and time:\n",
    "$$\\begin{aligned}\n",
    "P &= \\frac{PE}{t}\\\\\n",
    "P &= \\frac{mgh}{d/v}\\\\\n",
    "P &= \\frac{mgdsin(q)v}{d}\\\\\n",
    "P &= mgsin(q)v\n",
    "\\end{aligned}$$"
   ]
  },
  {
   "cell_type": "code",
   "execution_count": 7,
   "metadata": {},
   "outputs": [
    {
     "data": {
      "text/plain": [
       "15.33139760621328"
      ]
     },
     "execution_count": 7,
     "metadata": {},
     "output_type": "execute_result"
    }
   ],
   "source": [
    "power_mechanical = ft*velocity\n",
    "power_mechanical"
   ]
  },
  {
   "cell_type": "markdown",
   "metadata": {},
   "source": [
    "## Part II: Friction & Loss\n",
    "\n",
    "You need to estimate the effects of mechanical loss on your physical system.  This is difficult because you don't have your system.  Nevertheless, it is your job to estimate how this loss will affect your energy requirements.\n",
    "\n",
    "### Coulomb Friction\n",
    "A discussion of friction usually begins and ends with the discussion of Coulomb Friction.  A coulomb friction model usually depends on  two materials sliding against each other, as well as a normal force($f_{normal}$) pushing those two surfaces together.  The two materials interact at a variety of size scales, from atomic scales up to visible scales; the relationship between the two materials is characterized by a parameter $\\mu$.  The relationship between the scalar magnitudes of these forces is characterized by this well known equation:\n",
    "$$f_{friction} \\leq \\mu f_{normal}$$\n",
    "while the direction of the friction force is always against the direction of travel.\n",
    "\n",
    "### Damping\n",
    "Damping is a lossy force which is applied against the direction of travel.  Bodies moving through a fluid often experience the effects of damping. There are many models for damping, but linear damping models are characterized by the equation\n",
    "$$f_{damping} = b ||\\vec{v}||$$\n",
    "\n",
    "\n",
    "### Interfaces\n",
    "\n",
    "Mechanical loss occurs when moving bodies interact with each other in non-ideal ways.  This can be forces generated during sliding, rolling, pushing fluids out of the way while moving, etc.\n",
    "\n",
    "### Steps\n",
    "\n",
    "1. Find an appropriate stand-in device for the proposed system.  Discuss why this device is appropriate for estimating the mechanical loss in your system.\n",
    "1. Determine a method for measuring the loss.  The method you use may have an impact on the types of models.  You should consider what you are measuring and which models can be used with that measurement.  Some may be more appropriate than others, and it is up to you to make a detailed justification why your selection is appropriate for the task.\n",
    "1. Write up your method, justifying your while you go\n",
    "1. Using your model, now extrapolate to the proposed system, using the given design parameters and performance specifications.  Use your model to  compute two things. the additional power required from the motor, and the torque required at the wheel to overcome it.  \n"
   ]
  },
  {
   "cell_type": "markdown",
   "metadata": {},
   "source": [
    "## Part III: Motor Modeling\n",
    "The purpose of this assignment is to select an operating speed which can achieve your power  requirements in delivering torque at the right velocity to your wheels.  While you already calculated $w_{wheels}$ and $\\tau_{wheels}$, you have not yet selected a geartrain, permitting you to identify the best speed for delivering mechanical power to your system.  Your system has one motor mounted at each of the two wheels, permitting you to halve the amount of power required for each motor(but not the total power required for the system)\n",
    "\n",
    "### Motor Model\n",
    "![typical linear speed-torque curve](/figures/motor_modeling/motor_model.png)\n",
    "\n",
    "Typically, motors are tested at a specified voltage under various loads.  The resulting current, torque, and angular velocity are then experimentally found and recorded.  From these values, a wealth of information can be gleaned about the motor.  Typical permanent-magnet DC motors exhibit a torque-speed relationship that can be modeled as linear, as seen above.\n",
    "\n",
    "\n",
    "### Motor Modeling Equations\n",
    "\n",
    "The voltage constant for motors is often given by a KV rating, usually in units of RPM/V. find the SI version.\n",
    "\n",
    "The torque constant relates the current to torque generated by the motor.  one way to determine this is to find the stall current and the free running current and to find the slope between them.\n",
    "\n",
    "$$k_v = (KV)2\\pi/60$$\n",
    "This permits one to determine the motor's free-running speed at any voltage using the equation\n",
    "$$\\omega_{free\\ running} = k_v V$$\n",
    "\n",
    "We will use the following equations to compute $k_t$:\n",
    "$$k_t = \\frac{\\tau_{stall}-\\tau_{free\\ running}}{I_{stall} - I_{free\\ running}}$$\n",
    "\n",
    "With $k_t$ determined you can then calculate the torque at any current and constant voltage using the function\n",
    "$$\\tau(I) = k_t(I-I_{free\\ running})$$\n",
    "\n",
    "Using the assumption of a linear motor model(valid for fixed permanent magnet DC motors), we can find the torque at any speed from $0$ to $\\omega_{free\\ running}$ using the equation\n",
    "$$\\tau(\\omega)=\\tau_{stall}(k_v V - \\omega)$$\n",
    "\n",
    "The following equations can be used to compute mechanical and electrical power:\n",
    "$$P_{mechanical}=\\tau*\\omega$$\n",
    "$$P_{electrical}=IV$$\n",
    "\n",
    "The efficiency of your system can be calulated as a function of power out(mechanical) over power in(electrical).  \n",
    "$$eff = \\frac{P_{mechanical}}{P_{electrical}}$$\n",
    "\n",
    "\n",
    "### Updated Variables\n",
    "In addition to the variables supplied in the overview, there are some new variables and updated values which you can use in this assignment.\n",
    "\n",
    "|      Variable       | Description                                  | Value  | Unit      |\n",
    "|:-------------------:|:---------------------------------------------|:-------|:----------|\n",
    "|  $P_{mechanical}$   | Required mechanical power per motor          | 8      | W         |\n",
    "|      $w_{max}$      | Maximum (no-load) speed                      | obtain | rad/sec   |\n",
    "|         $V$         | Nominal Voltage                              | obtain | V         |\n",
    "|   $\\tau_{stall}$    | Stall Torque                                 | obtain | N-m       |\n",
    "|     $I_{stall}$     | Stall Current                                | obtain | Amp       |\n",
    "| $I_{free\\ running}$ | free running current                         | obtain | Amp       |\n",
    "|        $k_v$        | selected motor's speed/voltage relationship  | obtain | rad/V-sec |\n",
    "|        $k_t$        | selected motor's current/torque relationship | obtain | N-m/Amp   |\n",
    "\n",
    "### Steps\n",
    "1. Go to <https://www.pololu.com/product/2269> and find the following specs: Maximum(no load) RPM, stall torque, stall current, free running current, and voltage the motor was tested at to obtain those numbers.\n",
    "1. compute torque and speed constants using the equations above.  \n",
    "1. Write the equation you need to compute mechanical power\n",
    "1. Write the equation you need to compute electrical power\n",
    "1. Using $k_v$ & $V$, plot the *linear* speed-torque curve as a function of $w_{motor}$ (put $w_{motor}$ along the x-axis).\n",
    "1. Using the expression for $P_{mechanical}$ plot the mechanical power curve as a function of $w_{motor}$ (put $w_{motor}$ along the x-axis). Identify the motor operating point(speed) which produces the most power.\n",
    "1. Using $\\tau(I)$, solve for $I$ and use to compute the electrical power as a function of $w_{motor}$.\n",
    "1. Using the expression for $eff$, plot the motor efficiency as a function of $w_{motor}$ (put $w_{motor}$ along the x-axis). Identify the motor operating point(speed) which is the most efficient.\n",
    "1. Using the motor requirements derived in part 1, and the loss you determined in part 2, select an operating speed which balances power, efficiency, and specifications.  Discuss why other operating points do not balance those considerations as effectively.  Consider total power usage, current limitations, efficiency, size, weight, etc in your answer.\n",
    "\n",
    "### Assumptions and Notes\n",
    "* use Matlab, excel, python, etc for creating plots.  Do not hand-draw.\n",
    "* the x axis for your plots should go from 0 to $w_{max}$\n",
    "* Remember there are two motors, one at each wheel.  So the power requirements for each are half of your total requirements.\n",
    "* label your axes and title your figures\n",
    "* Convert all units to SI before computing your answer.  Answers/expressions in non-SI units will not be considered.  Supply the conversion factor you used.\n",
    "### Numerical Solution\n",
    "#### (1)\n",
    "\n",
    "Using motor constants from [this](https://www.pololu.com/product/2269) Pololu motor:"
   ]
  },
  {
   "cell_type": "code",
   "execution_count": 8,
   "metadata": {},
   "outputs": [],
   "source": [
    "w_max_rpm  = 10000\n",
    "#Convert to rad/sec\n",
    "w_max = w_max_rpm  * 2*pi/60\n",
    "\n",
    "torque_stall_ozin= 5\n",
    "#convert to N-m\n",
    "torque_stall = torque_stall_ozin * 0.0070615518333333\n",
    "\n",
    "current_stall = 6.5\n",
    "current_free_running  = .275\n",
    "\n",
    "voltage_run = 6\n",
    "voltage_free_stall = 0"
   ]
  },
  {
   "cell_type": "markdown",
   "metadata": {},
   "source": [
    "Find the range of the current from stall to free-running"
   ]
  },
  {
   "cell_type": "code",
   "execution_count": 9,
   "metadata": {},
   "outputs": [],
   "source": [
    "i_range = current_stall-current_free_running"
   ]
  },
  {
   "cell_type": "markdown",
   "metadata": {},
   "source": [
    "#### (2)\n",
    "Find $k_t$ and $k_v$ , the torque and voltage constants"
   ]
  },
  {
   "cell_type": "code",
   "execution_count": 10,
   "metadata": {},
   "outputs": [],
   "source": [
    "kt = torque_stall/i_range"
   ]
  },
  {
   "cell_type": "code",
   "execution_count": 11,
   "metadata": {},
   "outputs": [],
   "source": [
    "voltage_range = voltage_run - voltage_free_stall\n",
    "kv = w_max/voltage_range"
   ]
  },
  {
   "cell_type": "code",
   "execution_count": 12,
   "metadata": {},
   "outputs": [],
   "source": [
    "voltage_run = 6\n",
    "ii = numpy.r_[0:1:21j]\n",
    "w = ii * w_max"
   ]
  },
  {
   "cell_type": "markdown",
   "metadata": {},
   "source": [
    "#### (3-4)"
   ]
  },
  {
   "cell_type": "code",
   "execution_count": 13,
   "metadata": {},
   "outputs": [],
   "source": [
    "def calc_motor(kt,torque_stall,w_max,current_free_running,voltage_run,w_motor):\n",
    "    torque = (1-(w_motor/w_max))*torque_stall\n",
    "    current = torque/kt+current_free_running\n",
    "    motor_power_mechanical= w_motor*torque\n",
    "    motor_power_electrical = current*voltage_run\n",
    "    motor_efficiency = motor_power_mechanical/motor_power_electrical\n",
    "    return torque,motor_power_mechanical, motor_power_electrical, motor_efficiency"
   ]
  },
  {
   "cell_type": "code",
   "execution_count": 14,
   "metadata": {},
   "outputs": [],
   "source": [
    "torque,motor_power_mechanical_t, motor_power_electrical_t, motor_efficiency = calc_motor(kt,torque_stall,w_max,current_free_running,voltage_run,w)"
   ]
  },
  {
   "cell_type": "markdown",
   "metadata": {},
   "source": [
    "#### (5)"
   ]
  },
  {
   "cell_type": "code",
   "execution_count": 15,
   "metadata": {},
   "outputs": [
    {
     "data": {
      "text/plain": [
       "Text(0, 0.5, '$\\\\tau$ (Nm)')"
      ]
     },
     "execution_count": 15,
     "metadata": {},
     "output_type": "execute_result"
    },
    {
     "data": {
      "image/png": "[encoded data removed]",
      "text/plain": [
       "<Figure size 432x288 with 1 Axes>"
      ]
     },
     "metadata": {
      "needs_background": "light"
     },
     "output_type": "display_data"
    }
   ],
   "source": [
    "plt.figure()\n",
    "plt.plot(w,torque)\n",
    "plt.xlabel('$\\omega$ (rad/sec)')\n",
    "plt.ylabel('$\\\\tau$ (Nm)')"
   ]
  },
  {
   "cell_type": "markdown",
   "metadata": {},
   "source": [
    "#### (6)"
   ]
  },
  {
   "cell_type": "code",
   "execution_count": 16,
   "metadata": {},
   "outputs": [
    {
     "data": {
      "text/plain": [
       "Text(0, 0.5, '$Power$ (W)')"
      ]
     },
     "execution_count": 16,
     "metadata": {},
     "output_type": "execute_result"
    },
    {
     "data": {
      "image/png": "[encoded data removed]",
      "text/plain": [
       "<Figure size 432x288 with 1 Axes>"
      ]
     },
     "metadata": {
      "needs_background": "light"
     },
     "output_type": "display_data"
    }
   ],
   "source": [
    "plt.figure()\n",
    "plt.plot(w,motor_power_mechanical_t)\n",
    "plt.xlabel('$\\omega$ (rad/sec)')\n",
    "plt.ylabel('$Power$ (W)')"
   ]
  },
  {
   "cell_type": "markdown",
   "metadata": {},
   "source": [
    "As you can see, the maximum power occurs at w_max/2\n",
    "#### (7-9)"
   ]
  },
  {
   "cell_type": "code",
   "execution_count": 17,
   "metadata": {},
   "outputs": [
    {
     "data": {
      "text/plain": [
       "Text(0, 0.5, '$Eff$ (%)')"
      ]
     },
     "execution_count": 17,
     "metadata": {},
     "output_type": "execute_result"
    },
    {
     "data": {
      "image/png": "[encoded data removed]",
      "text/plain": [
       "<Figure size 432x288 with 1 Axes>"
      ]
     },
     "metadata": {
      "needs_background": "light"
     },
     "output_type": "display_data"
    }
   ],
   "source": [
    "plt.figure()\n",
    "plt.plot(w,motor_efficiency*100)\n",
    "plt.xlabel('$\\omega$ (rad/sec)')\n",
    "plt.ylabel('$Eff$ (%)')"
   ]
  },
  {
   "cell_type": "markdown",
   "metadata": {},
   "source": [
    "I have selected 710 rad/sec as my operating point.  Now I need to compute the mechancial power, electrical power, and effeciency once again"
   ]
  },
  {
   "cell_type": "code",
   "execution_count": 18,
   "metadata": {},
   "outputs": [],
   "source": [
    "w_motor = 710"
   ]
  },
  {
   "cell_type": "code",
   "execution_count": 19,
   "metadata": {},
   "outputs": [
    {
     "name": "stdout",
     "output_type": "stream",
     "text": [
      "torque =  0.011369096418946867\n",
      "motor_power_mechanical =  8.072058457452275\n",
      "motor_power_electrical =  13.676697849705437\n",
      "motor_efficiency =  0.5902052195754348\n"
     ]
    }
   ],
   "source": [
    "torque1,motor_power_mechanical1, motor_power_electrical1, motor_efficiency1 = calc_motor(kt,torque_stall,w_max,current_free_running,voltage_run,w_motor)\n",
    "print('torque = ', torque1)\n",
    "print('motor_power_mechanical = ', motor_power_mechanical1)\n",
    "print('motor_power_electrical = ', motor_power_electrical1)\n",
    "print('motor_efficiency = ', motor_efficiency1)\n"
   ]
  },
  {
   "cell_type": "markdown",
   "metadata": {},
   "source": [
    "The full model in one plot, with the design point selected:"
   ]
  },
  {
   "cell_type": "code",
   "execution_count": 20,
   "metadata": {},
   "outputs": [
    {
     "data": {
      "image/png": "[encoded data removed]",
      "text/plain": [
       "<Figure size 432x288 with 3 Axes>"
      ]
     },
     "metadata": {
      "needs_background": "light"
     },
     "output_type": "display_data"
    }
   ],
   "source": [
    "fig = plt.figure()\n",
    "ax1 = fig.add_subplot(111)\n",
    "\n",
    "p1 = ax1.plot(w,torque, 'b-')\n",
    "p11 = ax1.plot(w_motor,torque1,'bo')\n",
    "ax1.set_xlabel('speed (rad/sec)')\n",
    "# Make the y-axis label, ticks and tick labels match the line color.\n",
    "ax1.set_ylabel('torque (N-m)', color='b')\n",
    "ax1.tick_params('y', colors='b')\n",
    "\n",
    "ax2 = ax1.twinx()\n",
    "p2 = ax2.plot(w, motor_power_mechanical_t, 'r-.')\n",
    "p22 = ax2.plot(w_motor, motor_power_mechanical1, 'ro')\n",
    "ax2.set_ylabel('power (W)', color='r')\n",
    "ax2.tick_params('y', colors='r')\n",
    "\n",
    "ax3 = ax1.twinx()\n",
    "p3 = ax3.plot(w, motor_efficiency*100, 'g-.')\n",
    "p3 = ax3.plot(w_motor, motor_efficiency1*100, 'go')\n",
    "ax3.set_ylabel('efficiency (%)', color='g')\n",
    "ax3.tick_params('y', colors='g')\n",
    "\n",
    "#lns = [p1, p2, p3]\n",
    "#ax1.legend(handles=lns, loc='bevst')\n",
    "\n",
    "# right, left, top, bottom\n",
    "ax3.spines['right'].set_position(('outward', 60))  \n",
    "\n",
    "ax1.set_title('Motor Model')\n",
    "plt.show()"
   ]
  },
  {
   "cell_type": "markdown",
   "metadata": {},
   "source": [
    "\n",
    "## Part IV: Geartrain Selection\n",
    "### Overview\n",
    "\n",
    "The goal of this part is to determine the relationship between torque and angular velocity within your transmission (belt-drive system).  The key is to remember the power equation.  Assuming that the power into an ideal transmission is equal to the power out, you can solve for the change in velocity and force (or angular velocity and torque) between the input and output.\n",
    "\n",
    "Power on both sides of the transmission is defined by the torque and angular velocity delivered through it.\n",
    "$$P = t\\omega$$\n",
    "additionally, for the purposes of this exercise you can assume the transmission is ideal, or\n",
    "$$P_{in} = P_{out}$$\n",
    "Assume a motor is connected to the wheel via belt and a set of pulleys with radius $r_{pm}$ over the motor and $r_{pw}$ over the wheel.\n",
    "\n",
    "### Updated Variables\n",
    "In addition to the variables supplied in the overview, there are some updates.\n",
    "\n",
    "|     Variable      | Description               | Value                 | Unit    |\n",
    "|:-----------------:|:--------------------------|:----------------------|:--------|\n",
    "| $\\omega_{wheels}$ | angular velocity of wheel | 75 (solved in Part I)    | rad/sec |\n",
    "|  $\\tau_{wheels}$  | torque at wheels          | .2 (solved in Part I)    | N-m     |\n",
    "| $\\omega_{motor}$  | angular velocity of motor | 710 (solved Part III)   | rad/sec |\n",
    "|  $\\tau_{motor}$   | motor torque              | .0114 (solved Part III) | N-m     |\n",
    "\n",
    "### Steps\n",
    "1. Before doing anything else, draw a labeled sketch of the system to get an idea of the layout and how the components are connected.  Use a straightedge for straight lines.  label dimensions of your components.  Include wheel radius and pulley radii.\n",
    "1.  Assume a motor is connected to the wheel via belt and pulleys with radius $r_{pm}$ and $r_{pw}$. find an expression which relates the angular velocity of the wheel to the angular velocity of the motor using those two variables.\n",
    "1. Using the previous solution for $\\tau_{wheels}$, the wheel torque required to maintain static equilibrium, find an expression for the torque required at the motors to establish static equilibrium.  Do not use numerical answers, use variables.\n",
    "1.  Go online and find a set of toothed belt pulleys.  Use a gear ratio which makes sense for your design, and find the best approximate pair for your project.  Make sure they are a matching pair, for the same belt.  Report the links and discuss whether this selection is appropriate.\n",
    "1. Go back to the pololu site and compare with existing gearheads for the motor (<https://www.pololu.com/search/compare/183>).  would any of those make more sense to use?  Explain the benefits and tradeoffs.  re-run your previous models if necessary.\n",
    "\n",
    "### Assumptions and Notes\n",
    "* There is one motor connected to each wheel.  This means your wheel torque(.2Nm) and power(16W) requirements for each motor will be half (.1Nm, 8W, respectively)\n",
    "* To find the speed in / out relationship, use the assumption that the speed of the belt is the same at all points, along with the linear to angular velocity relationship discovered previously.\n",
    "* you can assume a frictionless geartrain and use the fact that the power in is equivalent to the power out, or solve  the torque balance.\n",
    "* Try <https://shop.sdp-si.com/>.\n"
   ]
  },
  {
   "cell_type": "markdown",
   "metadata": {},
   "source": [
    "## Part IV Walkthrough\n",
    "\n",
    "1. \n",
    "should include motor, battery, pulleys, board, rider, wheel.   each should be labeled.  \n",
    "should be labels for pulley radii, wheel radii\n",
    "2. \n",
    "If the input power is defined by the torque and angular velocity into the transmission\n",
    "$$P = t\\omega$$\n",
    "$$P_{motor} = t_{motor} \\omega_{motor}$$\n",
    "then the output power is defined by\n",
    "$$P_{wheel} = t_{wheel} \\omega_{wheel}$$\n",
    "given the speed relationship that the belt is moving at the same speed everywhere,\n",
    "$$v_{belt} = r_{pm} \\omega_{motor} = r_{pw} \\omega_{wheel}$$\n",
    "you can solve for the motor speed\n",
    "$$\\omega_{motor} =\\frac{ r_{pw}}{r_{pm}} \\omega_{wheel}$$\n",
    "3. \n",
    "Assuming that power in is equal to power out, you can then  solve for the motor torque\n",
    "$$\\begin{aligned}\n",
    "P_{motor} &= P_{wheel}\\\\\n",
    "t_{motor} \\omega_{motor}&= t_{wheel} \\omega_{wheel}\\\\\n",
    "t_{motor}&= \\frac{t_{wheel} \\omega_{wheel}}{ \\omega_{motor} }\\\\\n",
    "t_{motor}&= \\frac{t_{wheel} \\omega_{wheel}}{ \\frac{ r_{pw}}{r_{pm}} \\omega_{wheel} }\\\\\n",
    "t_{motor}&= \\frac{r_{pm}}{ r_{pw}}t_{wheel}\\\\\n",
    "\\end{aligned}$$\n",
    "4. \n",
    "There are several things to check.  First, the wheel pulley should not be larger than the wheel, otherwise it will hit the ground.  Second, the belts should\n"
   ]
  },
  {
   "cell_type": "markdown",
   "metadata": {},
   "source": [
    "Compute the gear ratio required between motor and wheel"
   ]
  },
  {
   "cell_type": "code",
   "execution_count": 21,
   "metadata": {},
   "outputs": [
    {
     "data": {
      "text/plain": [
       "0.1056338028169014"
      ]
     },
     "execution_count": 21,
     "metadata": {},
     "output_type": "execute_result"
    }
   ],
   "source": [
    "G = w_wheels/w_motor\n",
    "G"
   ]
  },
  {
   "cell_type": "markdown",
   "metadata": {},
   "source": [
    "Selecting a pulley radius of .01m allows me to calculate the wheel pulley radius"
   ]
  },
  {
   "cell_type": "code",
   "execution_count": 22,
   "metadata": {},
   "outputs": [
    {
     "name": "stdout",
     "output_type": "stream",
     "text": [
      "radius motor pulley = 0.0100\n",
      "radius wheel pulley = 0.0947\n"
     ]
    }
   ],
   "source": [
    "rpm = .01\n",
    "rpw = rpm/G\n",
    "print('radius motor pulley = {:.4f}'.format(rpm))\n",
    "print('radius wheel pulley = {:.4f}'.format(rpw))\n"
   ]
  },
  {
   "cell_type": "markdown",
   "metadata": {},
   "source": [
    "using the supplied equations I can calulate the wheel torque"
   ]
  },
  {
   "cell_type": "code",
   "execution_count": 23,
   "metadata": {},
   "outputs": [
    {
     "name": "stdout",
     "output_type": "stream",
     "text": [
      "t_motor= 0.01\n"
     ]
    }
   ],
   "source": [
    "#w_motor = rpw/rpm * w_wheels\n",
    "t_wheel = t_wheels/2\n",
    "t_motor = rpm/rpw * t_wheel\n",
    "print('t_motor= {:.2f}'.format(t_motor))"
   ]
  },
  {
   "cell_type": "markdown",
   "metadata": {},
   "source": [
    "Using the power required vs the power supplied allows me to calculate the extra power available to overcome loss forces:"
   ]
  },
  {
   "cell_type": "code",
   "execution_count": 24,
   "metadata": {},
   "outputs": [
    {
     "data": {
      "text/plain": [
       "0.2709064362304237"
      ]
     },
     "execution_count": 24,
     "metadata": {},
     "output_type": "execute_result"
    }
   ],
   "source": [
    "friction_force = (motor_power_mechanical1*2 - power_mechanical)/velocity\n",
    "friction_force"
   ]
  },
  {
   "cell_type": "markdown",
   "metadata": {},
   "source": [
    "\n",
    "## Part V: Battery Selection\n",
    "\n",
    "The goal of this part is to understand the interplay between key parameters involved in battery selection\n",
    "\n",
    "## Procedure\n",
    "\n",
    "1. Using the motor speed you selected in Part III and the resulting motor efficiency at that point, calculate the electrical power required to run your system.  \n",
    "1. Using the distance and velocity specifications from Part I, calculate the amount of time your system must run\n",
    "1. Integrate your electrical power requirement to determine electrical energy required.\n",
    "1. Find a battery online with both the power delivery capability and energy capacity to achieve the answers to 1 and 3.  Compute and/or report the maximum discharge rate for the selected battery, along with the maximum capacity.\n",
    "1. Find the mass of the battery.  Recompute the mechanical power requirements from Part I.  \n",
    "1.  Look at the motor curves from Part III.  Will the battery's mass added to the system force you to select a new motor or gear train?  All of the above?  Will you then need an even bigger battery?  Discuss whether/where your design breaks down and how you need to fix it.\n",
    "\n",
    "## Suggestions\n",
    "* Different battery chemistries vary widely in their specifications.  Make sure you are aware of the differences.  Lithium-Ion and Lithium-Polymer batteries are suggested, as their power/mass density is quite high.\n",
    "* Look online to find out some of the characteristics of LiPo batteries; make sure you understand what the \"C\" rating means when computing discharge current.  Try <https://rogershobbycenter.com/lipoguide/>\n"
   ]
  },
  {
   "cell_type": "markdown",
   "metadata": {},
   "source": [
    "## Battery Selection"
   ]
  },
  {
   "cell_type": "markdown",
   "metadata": {},
   "source": [
    "Lithium Polymer cells are typically 3.7V"
   ]
  },
  {
   "cell_type": "code",
   "execution_count": 25,
   "metadata": {},
   "outputs": [],
   "source": [
    "voltage_battery = 3.7"
   ]
  },
  {
   "cell_type": "markdown",
   "metadata": {},
   "source": [
    "The total electrical power from both motors is twice each one:"
   ]
  },
  {
   "cell_type": "code",
   "execution_count": 26,
   "metadata": {},
   "outputs": [
    {
     "data": {
      "text/plain": [
       "27.353395699410875"
      ]
     },
     "execution_count": 26,
     "metadata": {},
     "output_type": "execute_result"
    }
   ],
   "source": [
    "total_electrical_power = motor_power_electrical1*2\n",
    "total_electrical_power"
   ]
  },
  {
   "cell_type": "markdown",
   "metadata": {},
   "source": [
    "the total energy $E$ related to power$P$ and time $t$ is equal $E=\\int P\\partial t$.  When P is constant, this simplifies to $E=Pt$ "
   ]
  },
  {
   "cell_type": "code",
   "execution_count": 27,
   "metadata": {},
   "outputs": [
    {
     "data": {
      "text/plain": [
       "9117.798566470292"
      ]
     },
     "execution_count": 27,
     "metadata": {},
     "output_type": "execute_result"
    }
   ],
   "source": [
    "total_electrical_energy = total_electrical_power*time\n",
    "total_electrical_energy"
   ]
  },
  {
   "cell_type": "markdown",
   "metadata": {},
   "source": [
    "The battery current required use the electrical power equation $P=IV$ where $P$ is power, $I$ is current, and $V$ is voltage.  Using the battery voltage established earlier:"
   ]
  },
  {
   "cell_type": "code",
   "execution_count": 28,
   "metadata": {},
   "outputs": [
    {
     "data": {
      "text/plain": [
       "7.3928096484894255"
      ]
     },
     "execution_count": 28,
     "metadata": {},
     "output_type": "execute_result"
    }
   ],
   "source": [
    "battery_current = total_electrical_power/voltage_battery \n",
    "battery_current"
   ]
  },
  {
   "cell_type": "markdown",
   "metadata": {},
   "source": [
    "Batteries are often rated in mAh, or milli-Amp-hours, which is a measure of total charge. This can be obtained by dividing by battery voltage and changing the units from coulombs to A-h"
   ]
  },
  {
   "cell_type": "code",
   "execution_count": 29,
   "metadata": {},
   "outputs": [
    {
     "data": {
      "text/plain": [
       "684.519411897169"
      ]
     },
     "execution_count": 29,
     "metadata": {},
     "output_type": "execute_result"
    }
   ],
   "source": [
    "battery_rating_mAh = total_electrical_energy/voltage_battery /60/60*1000\n",
    "battery_rating_mAh"
   ]
  },
  {
   "cell_type": "markdown",
   "metadata": {
    "collapsed": true
   },
   "source": [
    "## Part VI: Testing\n",
    "\n",
    "### Overview\n",
    "\n",
    "This part is meant to confirm some of the values you retrieved from the pololu site.  You will be testing a Pololu motor\n",
    "\n",
    "### Steps\n",
    "1.  Convert your previous system diagram from motor modeling assignment 4 to a vector drawing in illustrator, powerpoint, inkscape, etc.\n",
    "1. Go to the lab and extract the motor parameters for a selected motor.  get $k_v$, $k_t$ and the torque-speed curve for a given voltage (6V max).\n",
    "1. plot the speed torque curve given your motor parameters\n",
    "1. Using\n",
    "    $$\\tau = k_i i$$\n",
    "    $$V = iR + \\omega/k_v$$\n",
    "    Find an expression for torque($\\tau$) as a function of speed ($\\omega$)\n",
    "1. Using $P=\\tau*\\omega$, find an expression for the Power as a function of speed\n",
    "1. overplot this on your speed torque curve.\n",
    "1. Take the derivative of this expression as a function of speed, and find the speed which achieves  maximum power.  (Evaluate to ensure it's a maximum not a minimum)  Solve for $P$ at that point.\n",
    "1. Using the results from this expression and the angular velocity of the wheel, determine the optimal gear ratio.\n",
    "1. Using obtained motor parameters and the expression for electrical power($P=iV$) and mechanical power($P=\\tau \\omega$), calculate motor efficiency at this operating point.\n",
    "1.  **Optional:** Change your expression to maximize motor efficiency.  Update the answer for optimal gear ratio.\n",
    "1. Identify the total electrical energy required to meet product specifications, factoring in motor efficiency.\n",
    "1. Select a battery which meets both power and energy requirements.\n",
    "\n",
    "### Numerical Solution"
   ]
  },
  {
   "cell_type": "code",
   "execution_count": 30,
   "metadata": {},
   "outputs": [],
   "source": [
    "%matplotlib inline\n",
    "import numpy \n",
    "import matplotlib.pyplot as plt"
   ]
  },
  {
   "cell_type": "markdown",
   "metadata": {},
   "source": [
    "From the data, we can correlate the max speed and voltage together.  From steady state at max speed, \n",
    "\n",
    "#### (1)\n",
    "\n",
    "![System Overview](/figures/motor_modeling/system.png)\n",
    "\n",
    "#### (2-3)\n",
    "Data plotted in excel to obtain linear fitted models during acceleration\n",
    "\n",
    "![Torque vs Current](/figures/motor_modeling/torque-vs-current.png)\n",
    "\n",
    "![Speed vs Voltage](/figures/motor_modeling/speed-vs-voltage.png)\n",
    "\n",
    "![Torque & Efficiency vs Speed](/figures/motor_modeling/torque_efficiency_speed.png)"
   ]
  },
  {
   "cell_type": "code",
   "execution_count": 31,
   "metadata": {},
   "outputs": [],
   "source": [
    "#w_max_rpm = 10000\n",
    "#w_max = w_max_rpm*2*pi/60\n",
    "w_max = 212.6146\n",
    "\n",
    "%matplotlib inline\n",
    "import numpy \n",
    "import matplotlib.pyplot as plt"
   ]
  },
  {
   "cell_type": "markdown",
   "metadata": {},
   "source": [
    "From the data, we can correlate the max speed and voltage together.  From steady state at max speed, "
   ]
  },
  {
   "cell_type": "code",
   "execution_count": 32,
   "metadata": {},
   "outputs": [
    {
     "data": {
      "text/plain": [
       "34.30894308943089"
      ]
     },
     "execution_count": 32,
     "metadata": {},
     "output_type": "execute_result"
    }
   ],
   "source": [
    "V_nominal = 6.15\n",
    "w_max = 211\n",
    "k_v = w_max/V_nominal\n",
    "k_v"
   ]
  },
  {
   "cell_type": "markdown",
   "metadata": {},
   "source": [
    "Or you can use the fitted model above"
   ]
  },
  {
   "cell_type": "code",
   "execution_count": 33,
   "metadata": {},
   "outputs": [],
   "source": [
    "k_v = 34.658"
   ]
  },
  {
   "cell_type": "markdown",
   "metadata": {},
   "source": [
    "The Resistance was obtained by holding the motor fixed at a nonzero voltage and recording the current.\n",
    "\n",
    "Ohm's Law: \n",
    "$$V=IR$$\n",
    "\n",
    "From measurements:\n",
    "\n",
    "$$V = 2.62$$\n",
    "$$I = 2.48$$\n",
    "$$R=V/I$$"
   ]
  },
  {
   "cell_type": "code",
   "execution_count": 34,
   "metadata": {},
   "outputs": [
    {
     "data": {
      "text/plain": [
       "5.8213740458015275"
      ]
     },
     "execution_count": 34,
     "metadata": {},
     "output_type": "execute_result"
    }
   ],
   "source": [
    "R = 2.62/2.48\n",
    "R\n",
    "\n",
    "i_stall = V_nominal / R\n",
    "i_stall"
   ]
  },
  {
   "cell_type": "markdown",
   "metadata": {},
   "source": [
    "Free running current was obtained from the data"
   ]
  },
  {
   "cell_type": "code",
   "execution_count": 35,
   "metadata": {},
   "outputs": [],
   "source": [
    "i_free_running = .07\n",
    "\n",
    "kt = .021\n",
    "t_stall = kt*i_stall"
   ]
  },
  {
   "cell_type": "markdown",
   "metadata": {},
   "source": [
    "#### (4)\n",
    "\n",
    "Given $V = iR+\\frac{\\omega}{k_v}$, we can solve for $i$\n",
    "$$i = \\frac{V-\\frac{\\omega}{k_v} }{R}$$\n",
    "Then, given $\\tau = k_i i$, we can insert that previous answer to find $\\tau$ \n",
    "$$\\tau =\\frac{ k_i}{R}\\left(V- \\frac{\\omega}{k_v}\\right)$$\n",
    "\n",
    "\n",
    "#### (5)\n",
    "\n",
    "Given the previous answer and $P=\\tau\\omega$, \n",
    "\n",
    "$$P=\\frac{ k_i}{R}\\left( V\\omega - \\frac{\\omega^2}{k_v} \\right)$$\n",
    "\n",
    "#### (6)\n",
    "See data collected from above with efficiency plotted over speed/torque, and the resulting model-based plots, with efficiency plotted over modeled speed/torque.\n",
    "\n",
    "#### (7)\n",
    "$$\\frac{dP}{d\\omega} = \\frac{k_i}{R}\\left(V-\\frac{2\\omega}{k_v}\\right)$$\n",
    "\n",
    "Solving for $\\omega_{Pmax}$ when $\\frac{dP}{d\\omega} =0$, \n",
    "$$0=\\left(V-\\frac{2\\omega_{Pmax}}{k_v}\\right)$$\n",
    "$$\\frac{2\\omega_{Pmax}}{k_v}=V$$\n",
    "$$\\omega_{Pmax} = \\frac{k_v V}{2}$$\n",
    "\n",
    "using the relation that $k_v V = \\omega_{unloaded}$, the unloaded motor speed, \n",
    "$$\\omega_{Pmax} = \\frac{\\omega_{unloaded}}{2}$$"
   ]
  },
  {
   "cell_type": "code",
   "execution_count": 36,
   "metadata": {},
   "outputs": [
    {
     "data": {
      "image/png": "[encoded data removed]",
      "text/plain": [
       "<Figure size 432x288 with 3 Axes>"
      ]
     },
     "metadata": {
      "needs_background": "light"
     },
     "output_type": "display_data"
    }
   ],
   "source": [
    "ii = numpy.r_[0:1:21j]\n",
    "w=ii*w_max\n",
    "w\n",
    "\n",
    "t = (1-ii)*t_stall\n",
    "t\n",
    "\n",
    "t2 = (w_max-w)/w_max * t_stall\n",
    "t2\n",
    "\n",
    "i = 1/kt*t+i_free_running\n",
    "\n",
    "p_mech = t* w\n",
    "p_mech\n",
    "\n",
    "p_elec = i* V_nominal\n",
    "p_elec\n",
    "\n",
    "eff = p_mech/p_elec * 100\n",
    "eff\n",
    "\n",
    "G=1\n",
    "\n",
    "t_output = G*t\n",
    "w_output = 1/G*w\n",
    "\n",
    "fig = plt.figure()\n",
    "ax1 = fig.add_subplot(111)\n",
    "\n",
    "p1 = ax1.plot(w_output,t_output, 'b-')\n",
    "ax1.set_xlabel('speed (rad/sec)')\n",
    "# Make the y-axis label, ticks and tick labels match the line color.\n",
    "ax1.set_ylabel('torque (N-m)', color='b')\n",
    "ax1.tick_params('y', colors='b')\n",
    "\n",
    "ax2 = ax1.twinx()\n",
    "p2 = ax2.plot(w_output, p_mech, 'ro-.')\n",
    "ax2.set_ylabel('power (W)', color='r')\n",
    "ax2.tick_params('y', colors='r')\n",
    "\n",
    "ax3 = ax1.twinx()\n",
    "p3 = ax3.plot(w_output, eff, 'gx-.')\n",
    "ax3.set_ylabel('efficiency (%)', color='g')\n",
    "ax3.tick_params('y', colors='g')\n",
    "\n",
    "#lns = [p1, p2, p3]\n",
    "#ax1.legend(handles=lns, loc='bevst')\n",
    "\n",
    "# right, left, top, bottom\n",
    "ax3.spines['right'].set_position(('outward', 60))  \n",
    "\n",
    "ax1.set_title('Motor Model')\n",
    "plt.show()"
   ]
  },
  {
   "cell_type": "markdown",
   "metadata": {},
   "source": [
    "#### (8)\n",
    "From the model above, the maximum power can be achieved at 105 rad/sec.  The angular velocity of the wheel, previously calculated, was 75 rad/sec.  Therefore:"
   ]
  },
  {
   "cell_type": "code",
   "execution_count": 37,
   "metadata": {},
   "outputs": [
    {
     "data": {
      "image/png": "[encoded data removed]",
      "text/plain": [
       "<Figure size 432x288 with 3 Axes>"
      ]
     },
     "metadata": {
      "needs_background": "light"
     },
     "output_type": "display_data"
    }
   ],
   "source": [
    "G=105/75\n",
    "\n",
    "t_output = G*t\n",
    "w_output = 1/G*w\n",
    "\n",
    "fig = plt.figure()\n",
    "ax1 = fig.add_subplot(111)\n",
    "\n",
    "p1 = ax1.plot(w_output,t_output, 'b-')\n",
    "ax1.set_xlabel('speed (rad/sec)')\n",
    "# Make the y-axis label, ticks and tick labels match the line color.\n",
    "ax1.set_ylabel('torque (N-m)', color='b')\n",
    "ax1.tick_params('y', colors='b')\n",
    "\n",
    "ax2 = ax1.twinx()\n",
    "p2 = ax2.plot(w_output, p_mech, 'ro-.')\n",
    "ax2.set_ylabel('power (W)', color='r')\n",
    "ax2.tick_params('y', colors='r')\n",
    "\n",
    "ax3 = ax1.twinx()\n",
    "p3 = ax3.plot(w_output, eff, 'gx-.')\n",
    "ax3.set_ylabel('efficiency (%)', color='g')\n",
    "ax3.tick_params('y', colors='g')\n",
    "\n",
    "#lns = [p1, p2, p3]\n",
    "#ax1.legend(handles=lns, loc='bevst')\n",
    "\n",
    "# right, left, top, bottom\n",
    "ax3.spines['right'].set_position(('outward', 60))  \n",
    "\n",
    "ax1.set_title('Motor Model')\n",
    "plt.show()"
   ]
  },
  {
   "cell_type": "markdown",
   "metadata": {},
   "source": [
    "#### (9)\n",
    "As you can see from the adjusted plot, the efficiency at the optimal speed is 35%\n",
    "\n",
    "#### (11-12)\n",
    "covered in previous assignments."
   ]
  }
 ],
 "metadata": {
  "kernelspec": {
   "display_name": "Python 3",
   "language": "python",
   "name": "python3"
  },
  "language_info": {
   "codemirror_mode": {
    "name": "ipython",
    "version": 3
   },
   "file_extension": ".py",
   "mimetype": "text/x-python",
   "name": "python",
   "nbconvert_exporter": "python",
   "pygments_lexer": "ipython3",
   "version": "3.7.9"
  }
 },
 "nbformat": 4,
 "nbformat_minor": 2
}
