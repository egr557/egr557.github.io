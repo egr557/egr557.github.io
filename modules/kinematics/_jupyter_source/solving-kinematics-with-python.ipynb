{
 "cells": [
  {
   "cell_type": "markdown",
   "metadata": {},
   "source": [
    "---\n",
    "title: Solving Kinematics Numerically with Python\n",
    "type: submodule\n",
    "---\n",
    "\n",
    "\n",
    "# Solving Kinematics Numerically with Python\n",
    "\n",
    "\n",
    "## Introduction\n",
    "\n",
    "This module takes you through solving the motion of a device by using a numerical nonlinear solver to solve a complex system of constraint equations.  We will be using a number of Python packages to do this.\n",
    "\n",
    "Note that solving kinematics numerically can prove troublesome, as the lack of a symbolic system of equations prevents us from analyzing those equations for situations when the system approaches a singularity, or when the initial guess for the state of the system is far away from the solution.  We will use a number of techniques to mitigate some of these problems but they are not always solvable.\n",
    "\n",
    "\n",
    "## Import Packages\n",
    "\n",
    "Import the packages you will need.  You will need _numpy_ for array handling, _matplotlib_'s plotting capabilities, the _scipy.optimize_ package to do nonlinear multidimensional solving, and the _math_ package for trig constants and functions."
   ]
  },
  {
   "cell_type": "code",
   "execution_count": 1,
   "metadata": {},
   "outputs": [],
   "source": [
    "# This line produces inline images in jupyter notebook\n",
    "%matplotlib inline"
   ]
  },
  {
   "cell_type": "code",
   "execution_count": 2,
   "metadata": {},
   "outputs": [],
   "source": [
    "# import all the packages necessary for running the code\n",
    "import numpy\n",
    "import matplotlib.pyplot as plt\n",
    "import scipy.optimize\n",
    "import math"
   ]
  },
  {
   "cell_type": "markdown",
   "metadata": {},
   "source": [
    "## Constraint Equations\n",
    "We will define some functions which will assist you in creating constraint equations for your mechanism.  These functions will be used over and over to define fixed elements of your design, such as the angle between two links, the length of a link, or the absolute angle between two vectors (using a reference).  \n",
    "\n",
    "### Length of a Vector\n",
    "\n",
    "First you want to define a length constraint.  Assume a numpy array is fed in.  The function should return the length of the vector:"
   ]
  },
  {
   "cell_type": "code",
   "execution_count": 3,
   "metadata": {},
   "outputs": [],
   "source": [
    "def length(v1):\n",
    "    '''\n",
    "    finds the length of a vector\n",
    "    \n",
    "    :param v1: the vector\n",
    "    :type v1: tuple or list of floats\n",
    "    :rtype: float\n",
    "    '''\n",
    "    v1 = numpy.array(v1).flatten()\n",
    "    l = (v1.dot(v1))**.5\n",
    "    return l"
   ]
  },
  {
   "cell_type": "markdown",
   "metadata": {},
   "source": [
    "### Inner angle between vectors\n",
    "Next you want to use the identity $\\vec{v1}\\cdot \\vec{v2} = \\left|\\vec{v1}\\right| \\left|\\vec{v2}\\right|\\cos{\\theta}$.  This equation returns the inner angle between vectors without considering the direction of each vector.  It is useful, however, because given a valid initial condition, this formula can be used to maintain a fixed angle between vectors."
   ]
  },
  {
   "cell_type": "code",
   "execution_count": 4,
   "metadata": {},
   "outputs": [],
   "source": [
    "def inner_angle(v1,v2):\n",
    "    '''\n",
    "    finds the interior angle between two vectors\n",
    "    \n",
    "    :param v1: the first vector\n",
    "    :type v1: tuple or list of floats\n",
    "    :param v2: the second vector\n",
    "    :type v2: tuple or list of floats\n",
    "    :rtype: float\n",
    "    '''\n",
    "    v1 = numpy.array(v1).flatten()\n",
    "    l1 = length(v1)\n",
    "    v2 = numpy.array(v2).flatten()\n",
    "    l2 = length(v2)\n",
    "    cost = numpy.dot(v1,v2)/l1/l2\n",
    "    t = math.acos(cost)\n",
    "    return t"
   ]
  },
  {
   "cell_type": "markdown",
   "metadata": {},
   "source": [
    "### Absolute angle between vectors\n",
    "\n",
    "Sometimes it is necessary to specify the angle between two directed vectors.  This cannot be done using only sine or cosine due to their limited range when computing inverse sines and inverse cosines.  the ```atan2``` function may be used in code, but computing the absolute angle between vectors has two solutions unless you supply a third orientation vector v3, indicating the handedness of the solution you prefer.  We will assume that the desired reference vector is a unit vector in the positive z direction, but this can be supplied as an optional third term.  The following function has some error proofing code in it to ensure that the supplied reference is considered in determining which answer to use in solving the total angle between two vectors."
   ]
  },
  {
   "cell_type": "code",
   "execution_count": 5,
   "metadata": {},
   "outputs": [],
   "source": [
    "def total_angle(v1,v2,v3=None):\n",
    "    '''\n",
    "    finds the interior angle between two vectors\n",
    "    \n",
    "    :param v1: the first vector\n",
    "    :type v1: tuple or list of floats\n",
    "    :param v2: the second vector\n",
    "    :type v2: tuple or list of floats\n",
    "    :rtype: float\n",
    "    '''\n",
    "\n",
    "    v1 = numpy.array(v1).flatten()\n",
    "    if len(v1)==2:\n",
    "        v1 = numpy.r_[v1,0]\n",
    "        v3 = numpy.array([0,0,1])\n",
    "\n",
    "        v2 = numpy.array(v2).flatten()\n",
    "    if len(v2)==2:\n",
    "        v2 = numpy.r_[v2,0]\n",
    "        v3 = numpy.array([0,0,1])\n",
    "\n",
    "    costheta = numpy.dot(v1,v2)\n",
    "    sintheta  = numpy.cross(v1,v2)\n",
    "    l_sintheta = length(sintheta)\n",
    "    neg = sintheta.dot(v3)\n",
    "    if neg<0:\n",
    "        neg = -1\n",
    "    else:\n",
    "        neg=1\n",
    "    theta = math.atan2(neg*l_sintheta,costheta)\n",
    "    return theta    "
   ]
  },
  {
   "cell_type": "markdown",
   "metadata": {},
   "source": [
    "## Angle Between Planes\n",
    "This function finds the angle between two planes"
   ]
  },
  {
   "cell_type": "code",
   "execution_count": 6,
   "metadata": {},
   "outputs": [],
   "source": [
    "def angle_between_planes(v1,v2,v3):\n",
    "    '''measures the angle between planes.  \n",
    "    v1 and v2 are two vectors which define one plane\n",
    "    v2 and v3 define the third plane.'''\n",
    "    \n",
    "    n1 = numpy.cross(v1,v2)\n",
    "    n2 = numpy.cross(v2,v3)\n",
    "    return total_angle(n1,n2,v2)"
   ]
  },
  {
   "cell_type": "markdown",
   "metadata": {},
   "source": [
    "## Constraint Equations Creation\n",
    "\n",
    "The next function which is generated is responsible for generating and evaluating all the constraint equations for a given system.  Consider a four-bar linkage of four vectors \n",
    "\n",
    "![four bar linkage](/figures/kinematics/fourbar.png)\n",
    "\n",
    "The planar four bar linkage can be defined by four points: $p_1$, $p_2$, $p_3$, and $p_4$.  The distance between these points is fixed by a rigid link.  Additionally, you can see that link 1 is rigidly attached to the world frame, which defines both its position and orientation.  For the 8 unknowns of the system, there must be 8 equations which can fully define the position of those four planar vectors.\n",
    "\n",
    "To sum them up:\n",
    "\n",
    "* Four length constraints\n",
    "* One point($p_1$) fixed at a set of coordinates\n",
    "* $v_1$ orientation fixed in space\n",
    "\n",
    "What is left?  The internal configuration of the four-bar linkage.  This can be determined by an extra equation defining the angle between $v_1$ and $v_4$, for example.  This is the single degree of freedom for the four-bar linkage itself.  In this example, $q$ may be considered the input variable which determines the configuration of the entire four-bar linkage.  Adding that final constraint sums to 8 constraint equations to match the 8 unknown variables in the system.\n",
    "\n",
    "### Implementation in Python\n",
    "To solve these equations in python requires the use of the ```scipy.optimize``` module.  The ```minimize``` function takes a function and an initial guess for a number of variables, and attempts to reduce the error produced by the function.  So our description of our kinematic constraint equations must result in the form of a function that returns the error of a guess made by the ```scipy.optimize.minimize``` function.\n",
    "\n",
    "But what if we want to build an arbitrary four-bar linkage?  If we supply specific constraint equations and a value for q, we will have to regenerate a new four-bar function for each design and configuration.  So instead, we wrap the four-bar constraint error calculation in another function which takes in our desired design and configuration variables, ```q1,dl1,dl2,dl3,dl4```.  This wrapper permits us to reuse the calc_fourbar() function for any four-bar linkage for which we have a set of desired link lengths and input angle.  The implementation can be seen below:"
   ]
  },
  {
   "cell_type": "code",
   "execution_count": 7,
   "metadata": {},
   "outputs": [],
   "source": [
    "p0_ini = 0,0\n",
    "p1_ini = 1,0\n",
    "p2_ini = 1,1\n",
    "p3_ini = -1,-1\n",
    "p4_ini = .5,-.5\n",
    "p_ini = numpy.array([p0_ini,p1_ini,p2_ini,p3_ini,p4_ini])"
   ]
  },
  {
   "cell_type": "markdown",
   "metadata": {},
   "source": [
    "define a list of label strings for labeling points"
   ]
  },
  {
   "cell_type": "code",
   "execution_count": 8,
   "metadata": {},
   "outputs": [],
   "source": [
    "point_text = ['p0','p1','p2','p3','p4']"
   ]
  },
  {
   "cell_type": "markdown",
   "metadata": {},
   "source": [
    "Define a list of vectors by the index of the points used"
   ]
  },
  {
   "cell_type": "code",
   "execution_count": 9,
   "metadata": {},
   "outputs": [],
   "source": [
    "vector_order = []\n",
    "vector_order.append((0,1))\n",
    "vector_order.append((1,2))\n",
    "vector_order.append((2,3))\n",
    "vector_order.append((3,0))\n",
    "vector_order.append((2,4))\n",
    "vector_order.append((3,4))\n",
    "vector_order = numpy.array(vector_order)"
   ]
  },
  {
   "cell_type": "markdown",
   "metadata": {},
   "source": [
    "For each vector, define the initial vector as the difference from point 1 minus point 0"
   ]
  },
  {
   "cell_type": "code",
   "execution_count": 10,
   "metadata": {},
   "outputs": [
    {
     "data": {
      "text/plain": [
       "array([[ 1. ,  0. ],\n",
       "       [ 0. ,  1. ],\n",
       "       [-2. , -2. ],\n",
       "       [ 1. ,  1. ],\n",
       "       [-0.5, -1.5],\n",
       "       [ 1.5,  0.5]])"
      ]
     },
     "execution_count": 10,
     "metadata": {},
     "output_type": "execute_result"
    }
   ],
   "source": [
    "v_ini = p_ini[vector_order[:,1]]-p_ini[vector_order[:,0]]\n",
    "v_ini"
   ]
  },
  {
   "cell_type": "markdown",
   "metadata": {},
   "source": [
    "Calculate the initial length"
   ]
  },
  {
   "cell_type": "code",
   "execution_count": 11,
   "metadata": {},
   "outputs": [
    {
     "data": {
      "text/plain": [
       "[1.0,\n",
       " 1.0,\n",
       " 2.8284271247461903,\n",
       " 1.4142135623730951,\n",
       " 1.5811388300841898,\n",
       " 1.5811388300841898]"
      ]
     },
     "execution_count": 11,
     "metadata": {},
     "output_type": "execute_result"
    }
   ],
   "source": [
    "l_ini = [length(item) for item in v_ini]\n",
    "l_ini"
   ]
  },
  {
   "cell_type": "markdown",
   "metadata": {},
   "source": [
    "Compute the text location as halfway between point 0 and 1 for each vector"
   ]
  },
  {
   "cell_type": "code",
   "execution_count": 12,
   "metadata": {},
   "outputs": [
    {
     "data": {
      "text/plain": [
       "array([[ 0.5 ,  0.  ],\n",
       "       [ 1.  ,  0.5 ],\n",
       "       [ 0.  ,  0.  ],\n",
       "       [-0.5 , -0.5 ],\n",
       "       [ 0.75,  0.25],\n",
       "       [-0.25, -0.75]])"
      ]
     },
     "execution_count": 12,
     "metadata": {},
     "output_type": "execute_result"
    }
   ],
   "source": [
    "text_location = (p_ini[vector_order[:,1]]+p_ini[vector_order[:,0]])/2\n",
    "text_location"
   ]
  },
  {
   "cell_type": "markdown",
   "metadata": {},
   "source": [
    "Add labels for labeling the vector midpoint"
   ]
  },
  {
   "cell_type": "code",
   "execution_count": 13,
   "metadata": {},
   "outputs": [],
   "source": [
    "vector_text = ['v0','v1','v2','v3','v4','v5']"
   ]
  },
  {
   "cell_type": "markdown",
   "metadata": {},
   "source": [
    "Create a function that plots a mechanism "
   ]
  },
  {
   "cell_type": "code",
   "execution_count": 14,
   "metadata": {},
   "outputs": [],
   "source": [
    "def plot_mechanism(point_location,text_location=None):\n",
    "    for item in vector_order:\n",
    "        plt.plot(*(point_location[item,:3].T),'ko-')\n",
    "\n",
    "    if text_location is not None:\n",
    "        for item,text in zip(point_location,point_text):\n",
    "            ax.text(x=item[0],y=item[1],s=text)\n",
    "\n",
    "        for item,text in zip(text_location,vector_text):\n",
    "            ax.text(x=item[0],y=item[1],s=text)\n"
   ]
  },
  {
   "cell_type": "code",
   "execution_count": 15,
   "metadata": {},
   "outputs": [
    {
     "data": {
      "image/png": "[encoded data removed]",
      "text/plain": [
       "<Figure size 432x288 with 1 Axes>"
      ]
     },
     "metadata": {
      "needs_background": "light"
     },
     "output_type": "display_data"
    }
   ],
   "source": [
    "fig = plt.figure();\n",
    "ax = fig.add_subplot(111)\n",
    "plot_mechanism(p_ini,text_location)\n",
    "plt.show()"
   ]
  },
  {
   "cell_type": "code",
   "execution_count": 16,
   "metadata": {},
   "outputs": [],
   "source": [
    "def gen_function(q1,dl1,dl2,dl3,dl4,dl5,dl6):\n",
    "    def calc_fourbar(arguments):\n",
    "        # break arguments variable into 8 discrete variables, 2 for each planar point in the four-bar linkage\n",
    "        x0,y0,x1,y1,x2,y2,x3,y3,x4,y4 = arguments\n",
    "        \n",
    "        #Create four points: p1, p2, p3, p4\n",
    "        p0 = numpy.array([x0,y0])\n",
    "        p1 = numpy.array([x1,y1])\n",
    "        p2 = numpy.array([x2,y2])\n",
    "        p3 = numpy.array([x3,y3])\n",
    "        p4 = numpy.array([x4,y4])\n",
    "\n",
    "        \n",
    "        #create new point array using inputs of function\n",
    "        p = numpy.array([p0,p1,p2,p3,p4])\n",
    "        \n",
    "        #create new vector array using vector ordering defined above\n",
    "        v = p[vector_order[:,1]]-p[vector_order[:,0]]\n",
    "        \n",
    "        #create new length vector\n",
    "        l = [length(item) for item in v]\n",
    "\n",
    "        # Define the x and y axis unit vectors\n",
    "        x_axis = numpy.array([1,0])\n",
    "        y_axis = numpy.array([0,1])\n",
    "\n",
    "        # define the error variable for holding all mechanism error calcs\n",
    "        error = []\n",
    "\n",
    "        # Compute the error in the structure as the absolute, cumulative \n",
    "        # difference between the link lengths and their desired lengths\n",
    "        error.append([l[0]-dl1])\n",
    "        error.append([l[1]-dl2])\n",
    "        error.append([l[2]-dl3])\n",
    "        error.append([l[3]-dl4])\n",
    "        error.append([l[4]-dl5])\n",
    "        error.append([l[5]-dl6])\n",
    "        \n",
    "        # add the desired input angle q1 minus the actual angle as another error component to be solved\n",
    "        error.append([total_angle(v[0],-v[3])-q1*math.pi/180])\n",
    "        #error.append([inner_angle(-v4,y_axis)-q1*math.pi/180+math.pi/2])\n",
    "        \n",
    "        # add two more constraints defining p1 as fixed at (0,0)\n",
    "        error.append([p[0,0]-0])\n",
    "        error.append([p[0,1]-0])\n",
    "        \n",
    "        # define v1 to be parallel to the x axis.\n",
    "        error.append([inner_angle(v[0],x_axis)-0])\n",
    "\n",
    "        # turn the error list into a vector\n",
    "        error1 =numpy.array(error)\n",
    "        \n",
    "        # return the square root of the sum of squared errors.  The length function that we wrote earlier does that.\n",
    "        return length(error1)\n",
    "    \n",
    "    return calc_fourbar"
   ]
  },
  {
   "cell_type": "markdown",
   "metadata": {},
   "source": [
    "To test the function we simply need to create a valid initial guess for the initial locations of the 8 variables ```x1,y1,x2,y2,x3,y3,x4,y4```"
   ]
  },
  {
   "cell_type": "code",
   "execution_count": 17,
   "metadata": {},
   "outputs": [],
   "source": [
    "ini = list(p_ini.flatten())"
   ]
  },
  {
   "cell_type": "markdown",
   "metadata": {},
   "source": [
    "as well as a set of design variables for ```dl1,dl2,dl3,dl4```."
   ]
  },
  {
   "cell_type": "code",
   "execution_count": 18,
   "metadata": {},
   "outputs": [],
   "source": [
    "design = numpy.array([4,2,4.4,1,5,3])"
   ]
  },
  {
   "cell_type": "markdown",
   "metadata": {},
   "source": [
    "and a state for the one configuration variable ```q1```"
   ]
  },
  {
   "cell_type": "code",
   "execution_count": 19,
   "metadata": {},
   "outputs": [],
   "source": [
    "q1=-170"
   ]
  },
  {
   "cell_type": "code",
   "execution_count": 20,
   "metadata": {},
   "outputs": [],
   "source": [
    "function=gen_function(q1,*design)\n",
    "result  = scipy.optimize.minimize(function,ini)\n",
    "x = result.x\n",
    "x =x.reshape((5,2))"
   ]
  },
  {
   "cell_type": "markdown",
   "metadata": {},
   "source": [
    "Compute the error of the resulting configuration found.  If it is near zero, it was able to find a solution"
   ]
  },
  {
   "cell_type": "code",
   "execution_count": 21,
   "metadata": {},
   "outputs": [
    {
     "data": {
      "text/plain": [
       "6.995398416354163e-08"
      ]
     },
     "execution_count": 21,
     "metadata": {},
     "output_type": "execute_result"
    }
   ],
   "source": [
    "result.fun"
   ]
  },
  {
   "cell_type": "code",
   "execution_count": 22,
   "metadata": {},
   "outputs": [
    {
     "data": {
      "image/png": "[encoded data removed]",
      "text/plain": [
       "<Figure size 432x288 with 1 Axes>"
      ]
     },
     "metadata": {
      "needs_background": "light"
     },
     "output_type": "display_data"
    }
   ],
   "source": [
    "fig = plt.figure();\n",
    "ax = fig.add_subplot(111)\n",
    "plot_mechanism(x)\n",
    "plt.axis('equal')\n",
    "plt.show()"
   ]
  },
  {
   "cell_type": "markdown",
   "metadata": {},
   "source": [
    "## Computing a Path\n",
    "But what if we want to compute more than one configuration in the same plot?  We need to re-run the optimize function with different values for q.  The example below does just that.  Additionally, we only want to show valid solutions, so we add some error proofing to check whether a solution has error below a desired tolerance."
   ]
  },
  {
   "cell_type": "code",
   "execution_count": 23,
   "metadata": {},
   "outputs": [
    {
     "name": "stdout",
     "output_type": "stream",
     "text": [
      "6.994958769426199e-08\n",
      "9.03578396742785e-08\n",
      "6.818126377658796e-08\n",
      "1.1818014822372901e-07\n",
      "1.3004526572734587e-07\n",
      "7.467395056150183e-08\n",
      "1.2559675148416404e-07\n",
      "1.4897331305062183e-07\n",
      "1.253274772729213e-07\n",
      "1.258116374074979e-07\n",
      "1.505113906941631e-07\n",
      "1.1481247697290997e-07\n",
      "1.3302576309248917e-07\n",
      "1.5438581509636946e-07\n",
      "1.4823286472018718e-07\n",
      "8.048563077184548e-08\n",
      "1.501539143887747e-07\n",
      "8.411210379488795e-08\n",
      "1.3379806951996817e-07\n",
      "5.470048532108741e-08\n",
      "7.428209498159685e-08\n",
      "9.595800307845717e-08\n",
      "1.1400509698539673e-07\n",
      "1.203941078844774e-07\n",
      "1.1868997192356723e-07\n",
      "9.960076488049228e-08\n",
      "9.571107464619422e-08\n",
      "6.135278614690043e-08\n",
      "7.810011261766794e-08\n",
      "8.497313988110125e-08\n",
      "8.837061348200097e-08\n",
      "8.54950552319171e-08\n",
      "8.865031358808815e-08\n",
      "1.427182998700313e-07\n",
      "7.347182723175156e-08\n",
      "0.059675897246800585\n"
     ]
    }
   ],
   "source": [
    "all_q = numpy.r_[-170:181:10]\n",
    "path = []\n",
    "q_in = []\n",
    "ini=result.x\n",
    "for q1 in all_q:\n",
    "    function=gen_function(q1,*design)\n",
    "    result  = scipy.optimize.minimize(function,ini)\n",
    "    points = result.x\n",
    "    points =points.reshape((5,2))\n",
    "\n",
    "    # Only add solution to path if the error is smaller than some nominal value\n",
    "    print(result.fun)\n",
    "\n",
    "    if result.fun<1e-1:\n",
    "        path.append(points)\n",
    "        q_in.append(q1)\n",
    "        ini = result.x\n",
    "\n",
    "path = numpy.array(path)\n",
    "q_in = numpy.array(q_in)"
   ]
  },
  {
   "cell_type": "markdown",
   "metadata": {},
   "source": [
    "Plotting the result..."
   ]
  },
  {
   "cell_type": "code",
   "execution_count": 24,
   "metadata": {},
   "outputs": [
    {
     "data": {
      "image/png": "[encoded data removed]",
      "text/plain": [
       "<Figure size 432x288 with 1 Axes>"
      ]
     },
     "metadata": {
      "needs_background": "light"
     },
     "output_type": "display_data"
    }
   ],
   "source": [
    "f = plt.figure()\n",
    "a = f.add_subplot(111)\n",
    "for item in path:\n",
    "    plot_mechanism(item)\n",
    "plt.axis('equal')\n",
    "plt.savefig('f1.png')"
   ]
  },
  {
   "cell_type": "markdown",
   "metadata": {},
   "source": [
    "## Computing The Jacobian\n",
    "\n",
    "Now consider we want to look at an end-effector attached to $\\vec{v}_3$.  Plotting the end effector p4:"
   ]
  },
  {
   "cell_type": "code",
   "execution_count": 25,
   "metadata": {},
   "outputs": [
    {
     "data": {
      "text/plain": [
       "(36, 5, 2)"
      ]
     },
     "execution_count": 25,
     "metadata": {},
     "output_type": "execute_result"
    }
   ],
   "source": [
    "path.shape"
   ]
  },
  {
   "cell_type": "markdown",
   "metadata": {},
   "source": [
    "This plots as the following set of points:"
   ]
  },
  {
   "cell_type": "code",
   "execution_count": 26,
   "metadata": {},
   "outputs": [
    {
     "data": {
      "image/png": "[encoded data removed]",
      "text/plain": [
       "<Figure size 432x288 with 1 Axes>"
      ]
     },
     "metadata": {
      "needs_background": "light"
     },
     "output_type": "display_data"
    }
   ],
   "source": [
    "plt.figure()\n",
    "p4 = path[:,4,:]\n",
    "#p4 = numpy.r_[p4,p4[0:1]]\n",
    "plt.plot(p4[:,0],p4[:,1],'go-')\n",
    "plt.axis('equal')\n",
    "plt.savefig('f2.png')"
   ]
  },
  {
   "cell_type": "markdown",
   "metadata": {},
   "source": [
    "But what if we're only interested in the portion of the path where the end effector is supposed to be touching the ground?  Restricting to that portion of the path:"
   ]
  },
  {
   "cell_type": "code",
   "execution_count": 27,
   "metadata": {},
   "outputs": [
    {
     "data": {
      "text/plain": [
       "array([[ 0.64264265, -2.69384763],\n",
       "       [ 0.7828071 , -2.79823562],\n",
       "       [ 0.95188307, -2.88646359],\n",
       "       [ 1.14481075, -2.95549859],\n",
       "       [ 1.35560967, -3.00354474],\n",
       "       [ 1.57761488, -3.03016873],\n",
       "       [ 1.80367917, -3.0363504 ],\n",
       "       [ 2.02631997, -3.02444975],\n",
       "       [ 2.23779282, -2.99806976],\n",
       "       [ 2.43010895, -2.96177114],\n",
       "       [ 2.59504363, -2.92057242],\n",
       "       [ 2.72424749, -2.87916297],\n",
       "       [ 2.8096761 , -2.84079601],\n",
       "       [ 2.8446389 , -2.80599015],\n",
       "       [ 2.82567041, -2.77151729],\n",
       "       [ 2.75487839, -2.73055544],\n",
       "       [ 2.64131426, -2.6748451 ],\n",
       "       [ 2.49927055, -2.59849718],\n",
       "       [ 2.34322093, -2.50118151],\n",
       "       [ 2.18279387, -2.38830935],\n",
       "       [ 2.02157382, -2.26852097],\n",
       "       [ 1.85940198, -2.1508784 ],\n",
       "       [ 1.69523179, -2.04329031],\n",
       "       [ 1.52883464, -1.9520413 ],\n",
       "       [ 1.36136489, -1.88182058],\n",
       "       [ 1.19531724, -1.83586468],\n",
       "       [ 1.03425529, -1.81608172],\n",
       "       [ 0.88249039, -1.82314016],\n",
       "       [ 0.74476959, -1.8565349 ],\n",
       "       [ 0.62598404, -1.91465079],\n",
       "       [ 0.5308936 , -1.99483821],\n",
       "       [ 0.46386026, -2.0935118 ],\n",
       "       [ 0.42858645, -2.2062852 ],\n",
       "       [ 0.42786054, -2.32814793],\n",
       "       [ 0.46332557, -2.45369074],\n",
       "       [ 0.50267501, -2.53323713],\n",
       "       [ 0.64264265, -2.69384763],\n",
       "       [ 0.7828071 , -2.79823562]])"
      ]
     },
     "execution_count": 27,
     "metadata": {},
     "output_type": "execute_result"
    }
   ],
   "source": [
    "y_out = numpy.vstack([p4,p4[0:2]])\n",
    "y_out"
   ]
  },
  {
   "cell_type": "code",
   "execution_count": 28,
   "metadata": {},
   "outputs": [
    {
     "data": {
      "text/plain": [
       "array([-170, -160, -150, -140, -130, -120, -110, -100,  -90,  -80,  -70,\n",
       "        -60,  -50,  -40,  -30,  -20,  -10,    0,   10,   20,   30,   40,\n",
       "         50,   60,   70,   80,   90,  100,  110,  120,  130,  140,  150,\n",
       "        160,  170,  180, -170, -160])"
      ]
     },
     "execution_count": 28,
     "metadata": {},
     "output_type": "execute_result"
    }
   ],
   "source": [
    "q_in = numpy.r_[q_in,q_in[0:2]]\n",
    "q_in"
   ]
  },
  {
   "cell_type": "code",
   "execution_count": 29,
   "metadata": {},
   "outputs": [],
   "source": [
    "range_min = 0\n",
    "range_max = 11"
   ]
  },
  {
   "cell_type": "code",
   "execution_count": 30,
   "metadata": {},
   "outputs": [],
   "source": [
    "if range_min>=0:\n",
    "    y_out = p4[range_min:range_max]\n",
    "    q_in = q_in[range_min:range_max]\n",
    "else:\n",
    "    y_out = numpy.vstack([p4[range_min:,:],p4[0:range_max,:]])\n",
    "    q_in = numpy.r_[q_in[range_min:],q_in[0:range_max]]"
   ]
  },
  {
   "cell_type": "markdown",
   "metadata": {},
   "source": [
    "Now we may calculate the relative change in position of the end-effector (in green) between each step as a function of the change in input angle $q$."
   ]
  },
  {
   "cell_type": "code",
   "execution_count": 31,
   "metadata": {},
   "outputs": [
    {
     "data": {
      "image/png": "[encoded data removed]",
      "text/plain": [
       "<Figure size 432x288 with 1 Axes>"
      ]
     },
     "metadata": {
      "needs_background": "light"
     },
     "output_type": "display_data"
    }
   ],
   "source": [
    "f = plt.figure()\n",
    "a = f.add_subplot(111)\n",
    "\n",
    "#for item in path[range_min:range_max]:\n",
    "#    plot_mechanism(item)\n",
    "    \n",
    "a.plot(p4[:,0],p4[:,1],'go-')    \n",
    "a.plot(y_out[:,0],y_out[:,1],'ro-')    \n",
    "plt.axis('equal')\n",
    "plt.savefig('f3.png')"
   ]
  },
  {
   "cell_type": "markdown",
   "metadata": {},
   "source": [
    "We use the trapezoidal rule to find the slope in y as a function of the previous and next neighbors of each point in the path.  For a path of n points this will produce n-2 sets of partial derivatives"
   ]
  },
  {
   "cell_type": "code",
   "execution_count": 32,
   "metadata": {},
   "outputs": [
    {
     "data": {
      "text/plain": [
       "array([[ 0.30924041, -0.19261596],\n",
       "       [ 0.36200364, -0.15726297],\n",
       "       [ 0.40372661, -0.11708114],\n",
       "       [ 0.43280413, -0.07467014],\n",
       "       [ 0.4480695 , -0.03280566],\n",
       "       [ 0.44870509,  0.00571898],\n",
       "       [ 0.43411364,  0.03828064],\n",
       "       [ 0.40378898,  0.06267861],\n",
       "       [ 0.35725081,  0.07749734]])"
      ]
     },
     "execution_count": 32,
     "metadata": {},
     "output_type": "execute_result"
    }
   ],
   "source": [
    "dy = y_out[2:,:]-y_out[:-2,:]\n",
    "dy"
   ]
  },
  {
   "cell_type": "code",
   "execution_count": 33,
   "metadata": {},
   "outputs": [
    {
     "data": {
      "text/plain": [
       "array([20, 20, 20, 20, 20, 20, 20, 20, 20])"
      ]
     },
     "execution_count": 33,
     "metadata": {},
     "output_type": "execute_result"
    }
   ],
   "source": [
    "dq = q_in[2:]-q_in[:-2]\n",
    "dq"
   ]
  },
  {
   "cell_type": "code",
   "execution_count": 34,
   "metadata": {},
   "outputs": [
    {
     "data": {
      "text/plain": [
       "(9,)"
      ]
     },
     "execution_count": 34,
     "metadata": {},
     "output_type": "execute_result"
    }
   ],
   "source": [
    "dq.shape"
   ]
  },
  {
   "cell_type": "code",
   "execution_count": 35,
   "metadata": {},
   "outputs": [
    {
     "data": {
      "image/png": "[encoded data removed]",
      "text/plain": [
       "<Figure size 432x288 with 1 Axes>"
      ]
     },
     "metadata": {
      "needs_background": "light"
     },
     "output_type": "display_data"
    }
   ],
   "source": [
    "f = plt.figure()\n",
    "a = f.add_subplot(111)\n",
    "\n",
    "#for item in path[range_min:range_max]:\n",
    "#    plot_mechanism(item)\n",
    "    \n",
    "a.plot(p4[:,0],p4[:,1],'go-')    \n",
    "a.plot(y_out[:,0],y_out[:,1],'ro-')    \n",
    "plt.axis('equal')\n",
    "plt.savefig('f3.png')"
   ]
  },
  {
   "cell_type": "code",
   "execution_count": 36,
   "metadata": {},
   "outputs": [
    {
     "data": {
      "image/png": "[encoded data removed]",
      "text/plain": [
       "<Figure size 432x288 with 1 Axes>"
      ]
     },
     "metadata": {
      "needs_background": "light"
     },
     "output_type": "display_data"
    }
   ],
   "source": [
    "plt.figure()\n",
    "plt.plot(y_out[:,0],y_out[:,1],'ro-')    \n",
    "plt.quiver(y_out[1:-1,0],y_out[1:-1,1],dy[:,0],dy[:,1])\n",
    "plt.axis('equal')\n",
    "plt.show()\n"
   ]
  },
  {
   "cell_type": "markdown",
   "metadata": {},
   "source": [
    "Dividing dy over dq produces 10, 2x1 Jacobian matrices, 1 for each interior point in the motion path."
   ]
  },
  {
   "cell_type": "code",
   "execution_count": 37,
   "metadata": {},
   "outputs": [
    {
     "data": {
      "text/plain": [
       "(2, 9)"
      ]
     },
     "execution_count": 37,
     "metadata": {},
     "output_type": "execute_result"
    }
   ],
   "source": [
    "J=(dy.T/dq.T)\n",
    "J.shape"
   ]
  },
  {
   "cell_type": "code",
   "execution_count": 38,
   "metadata": {},
   "outputs": [
    {
     "data": {
      "text/plain": [
       "array([[ 0.01546202,  0.01810018,  0.02018633,  0.02164021,  0.02240348,\n",
       "         0.02243525,  0.02170568,  0.02018945,  0.01786254],\n",
       "       [-0.0096308 , -0.00786315, -0.00585406, -0.00373351, -0.00164028,\n",
       "         0.00028595,  0.00191403,  0.00313393,  0.00387487]])"
      ]
     },
     "execution_count": 38,
     "metadata": {},
     "output_type": "execute_result"
    }
   ],
   "source": [
    "J"
   ]
  },
  {
   "cell_type": "markdown",
   "metadata": {},
   "source": [
    "Now let's find the torque required to accelerage a 1-kg mass forward at 1g, while holding itself up against gravity:"
   ]
  },
  {
   "cell_type": "code",
   "execution_count": 39,
   "metadata": {},
   "outputs": [
    {
     "data": {
      "text/plain": [
       "array([[0.24616055],\n",
       "       [0.25470027],\n",
       "       [0.2554562 ],\n",
       "       [0.24891613],\n",
       "       [0.23586927],\n",
       "       [0.21728469],\n",
       "       [0.19415609],\n",
       "       [0.16731464],\n",
       "       [0.13721908]])"
      ]
     },
     "execution_count": 39,
     "metadata": {},
     "output_type": "execute_result"
    }
   ],
   "source": [
    "m = 1 #kg\n",
    "g = 9.81 #m/s^2\n",
    "fx = m*g\n",
    "fy = -m*g\n",
    "f = numpy.array([[fx,fy]]).T\n",
    "t = J.T.dot(f)\n",
    "t #N-m"
   ]
  },
  {
   "cell_type": "code",
   "execution_count": 40,
   "metadata": {},
   "outputs": [
    {
     "data": {
      "text/plain": [
       "0.2554562024243693"
      ]
     },
     "execution_count": 40,
     "metadata": {},
     "output_type": "execute_result"
    }
   ],
   "source": [
    "t.max()"
   ]
  },
  {
   "cell_type": "code",
   "execution_count": 41,
   "metadata": {},
   "outputs": [
    {
     "data": {
      "text/plain": [
       "0.13721907554495927"
      ]
     },
     "execution_count": 41,
     "metadata": {},
     "output_type": "execute_result"
    }
   ],
   "source": [
    "t.min()"
   ]
  },
  {
   "cell_type": "markdown",
   "metadata": {
    "collapsed": true
   },
   "source": [
    "Thus, the torque required by a motor to hold those forces specified by $f_x$ and $f_y$ is around .25 N-m in the worst case."
   ]
  },
  {
   "cell_type": "code",
   "execution_count": 42,
   "metadata": {},
   "outputs": [],
   "source": [
    "motor_speed = 500#rpm\n",
    "dq_dt = motor_speed*2*math.pi/60\n",
    "velocity = J*dq_dt"
   ]
  },
  {
   "cell_type": "code",
   "execution_count": 43,
   "metadata": {},
   "outputs": [
    {
     "data": {
      "text/plain": [
       "array([0.80958951, 0.94772333, 1.05695379, 1.13307856, 1.17304321,\n",
       "       1.17470717, 1.13650686, 1.05711709, 0.93528043])"
      ]
     },
     "execution_count": 43,
     "metadata": {},
     "output_type": "execute_result"
    }
   ],
   "source": [
    "velocity[0,:]"
   ]
  },
  {
   "cell_type": "code",
   "execution_count": 44,
   "metadata": {},
   "outputs": [
    {
     "data": {
      "text/plain": [
       "array([[ 9.81],\n",
       "       [-9.81]])"
      ]
     },
     "execution_count": 44,
     "metadata": {},
     "output_type": "execute_result"
    }
   ],
   "source": [
    "f"
   ]
  },
  {
   "cell_type": "code",
   "execution_count": 45,
   "metadata": {},
   "outputs": [
    {
     "data": {
      "text/plain": [
       "array([[12.88893646],\n",
       "       [13.33607515],\n",
       "       [13.37565548],\n",
       "       [13.03321797],\n",
       "       [12.35008598],\n",
       "       [11.37699962],\n",
       "       [10.1659891 ],\n",
       "       [ 8.76057407],\n",
       "       [ 7.18477399]])"
      ]
     },
     "execution_count": 45,
     "metadata": {},
     "output_type": "execute_result"
    }
   ],
   "source": [
    "P = t.dot(dq_dt)\n",
    "P"
   ]
  }
 ],
 "metadata": {
  "kernelspec": {
   "display_name": "Python 3",
   "language": "python",
   "name": "python3"
  },
  "language_info": {
   "codemirror_mode": {
    "name": "ipython",
    "version": 3
   },
   "file_extension": ".py",
   "mimetype": "text/x-python",
   "name": "python",
   "nbconvert_exporter": "python",
   "pygments_lexer": "ipython3",
   "version": "3.8.5"
  }
 },
 "nbformat": 4,
 "nbformat_minor": 2
}
