{
 "cells": [
  {
   "cell_type": "markdown",
   "metadata": {},
   "source": [
    "---\n",
    "title: Pynamics Vectors Example\n",
    "type: tutorial\n",
    "---"
   ]
  },
  {
   "cell_type": "code",
   "execution_count": 1,
   "metadata": {},
   "outputs": [],
   "source": [
    "import pynamics\n",
    "from pynamics.system import System\n",
    "from pynamics.frame import Frame\n",
    "\n",
    "system = System()\n",
    "pynamics.set_system(__name__,system)"
   ]
  },
  {
   "cell_type": "code",
   "execution_count": 2,
   "metadata": {},
   "outputs": [],
   "source": [
    "A = Frame('A')\n",
    "B = Frame('B')\n",
    "C  = Frame('C')"
   ]
  },
  {
   "cell_type": "code",
   "execution_count": 3,
   "metadata": {},
   "outputs": [],
   "source": [
    "v = A.x +B.y + C.z"
   ]
  },
  {
   "cell_type": "code",
   "execution_count": 4,
   "metadata": {},
   "outputs": [
    {
     "data": {
      "text/plain": [
       "A.x + B.y + C.z"
      ]
     },
     "execution_count": 4,
     "metadata": {},
     "output_type": "execute_result"
    }
   ],
   "source": [
    "v"
   ]
  },
  {
   "cell_type": "code",
   "execution_count": 5,
   "metadata": {},
   "outputs": [
    {
     "data": {
      "text/plain": [
       "3*A.x + 3*B.y + 3*C.z"
      ]
     },
     "execution_count": 5,
     "metadata": {},
     "output_type": "execute_result"
    }
   ],
   "source": [
    "3*v"
   ]
  },
  {
   "cell_type": "code",
   "execution_count": 6,
   "metadata": {},
   "outputs": [
    {
     "data": {
      "text/plain": [
       "2*A.x + 3*B.y + 3*C.z"
      ]
     },
     "execution_count": 6,
     "metadata": {},
     "output_type": "execute_result"
    }
   ],
   "source": [
    "3*v - A.x"
   ]
  },
  {
   "cell_type": "raw",
   "metadata": {},
   "source": [
    "import sympy\n",
    "a = sympy.symbols('a')\n",
    "b = sympy.symbols('b')\n",
    "\n",
    "B.rotate_fixed_axis_directed(A,[0,0,1],a,system)\n",
    "C.rotate_fixed_axis_directed(B,[0,1,0],b,system)"
   ]
  },
  {
   "cell_type": "code",
   "execution_count": 7,
   "metadata": {},
   "outputs": [],
   "source": [
    "from pynamics.variable_types import Differentiable,Constant\n",
    "a, a_d, a_dd = Differentiable('a',system)\n",
    "b, b_d, b_dd = Differentiable('b',system)\n",
    "\n",
    "system.set_newtonian(A)\n",
    "B.rotate_fixed_axis_directed(A,[0,0,1],a,system)\n",
    "C.rotate_fixed_axis_directed(B,[0,1,0],b,system)"
   ]
  },
  {
   "cell_type": "code",
   "execution_count": 8,
   "metadata": {},
   "outputs": [
    {
     "data": {
      "text/plain": [
       "A.x*(-sin(a) + sin(b)*cos(a) + 1) + A.y*(sin(a)*sin(b) + cos(a)) + A.z*cos(b)"
      ]
     },
     "execution_count": 8,
     "metadata": {},
     "output_type": "execute_result"
    }
   ],
   "source": [
    "v.express(A)"
   ]
  },
  {
   "cell_type": "code",
   "execution_count": 9,
   "metadata": {},
   "outputs": [
    {
     "data": {
      "text/plain": [
       "-a_d*B.x + a_d*C.y*sin(b) + b_d*C.x"
      ]
     },
     "execution_count": 9,
     "metadata": {},
     "output_type": "execute_result"
    }
   ],
   "source": [
    "output_velocity = v.time_derivative(A)\n",
    "output_velocity"
   ]
  },
  {
   "cell_type": "code",
   "execution_count": 10,
   "metadata": {},
   "outputs": [
    {
     "data": {
      "text/plain": [
       "-b_d*A.z*sin(b) + A.x*(-a_d*sin(a)*sin(b) - a_d*cos(a) + b_d*cos(a)*cos(b)) + A.y*(-a_d*sin(a) + a_d*sin(b)*cos(a) + b_d*sin(a)*cos(b))"
      ]
     },
     "execution_count": 10,
     "metadata": {},
     "output_type": "execute_result"
    }
   ],
   "source": [
    "output_velocity.express(A)"
   ]
  },
  {
   "cell_type": "code",
   "execution_count": 11,
   "metadata": {},
   "outputs": [
    {
     "data": {
      "text/plain": [
       "-a_d⋅sin(a)⋅sin(b) - a_d⋅cos(a) + b_d⋅cos(a)⋅cos(b)"
      ]
     },
     "execution_count": 11,
     "metadata": {},
     "output_type": "execute_result"
    }
   ],
   "source": [
    "vx = output_velocity.dot(A.x)\n",
    "vx"
   ]
  },
  {
   "cell_type": "code",
   "execution_count": 12,
   "metadata": {},
   "outputs": [
    {
     "data": {
      "text/plain": [
       "-a_d⋅sin(a) + a_d⋅sin(b)⋅cos(a) + b_d⋅sin(a)⋅cos(b)"
      ]
     },
     "execution_count": 12,
     "metadata": {},
     "output_type": "execute_result"
    }
   ],
   "source": [
    "vy = output_velocity.dot(A.y)\n",
    "vy"
   ]
  },
  {
   "cell_type": "code",
   "execution_count": 13,
   "metadata": {},
   "outputs": [
    {
     "data": {
      "text/plain": [
       "-b_d⋅sin(b)"
      ]
     },
     "execution_count": 13,
     "metadata": {},
     "output_type": "execute_result"
    }
   ],
   "source": [
    "vz = output_velocity.dot(A.z)\n",
    "vz"
   ]
  },
  {
   "cell_type": "code",
   "execution_count": 14,
   "metadata": {},
   "outputs": [],
   "source": [
    "import sympy\n",
    "cartesian_velocities = sympy.Matrix([vx,vy,vz])"
   ]
  },
  {
   "cell_type": "code",
   "execution_count": 15,
   "metadata": {},
   "outputs": [
    {
     "data": {
      "text/plain": [
       "⎡⎡-sin(a)⋅sin(b) - cos(a)⎤⎤\n",
       "⎢⎢                       ⎥⎥\n",
       "⎢⎢-sin(a) + sin(b)⋅cos(a)⎥⎥\n",
       "⎢⎢                       ⎥⎥\n",
       "⎢⎣           0           ⎦⎥\n",
       "⎢                         ⎥\n",
       "⎢     ⎡cos(a)⋅cos(b)⎤     ⎥\n",
       "⎢     ⎢             ⎥     ⎥\n",
       "⎢     ⎢sin(a)⋅cos(b)⎥     ⎥\n",
       "⎢     ⎢             ⎥     ⎥\n",
       "⎣     ⎣   -sin(b)   ⎦     ⎦"
      ]
     },
     "execution_count": 15,
     "metadata": {},
     "output_type": "execute_result"
    }
   ],
   "source": [
    "J = cartesian_velocities.diff(sympy.Matrix([a_d,b_d]))\n",
    "J"
   ]
  }
 ],
 "metadata": {
  "kernelspec": {
   "display_name": "Python 3",
   "language": "python",
   "name": "python3"
  },
  "language_info": {
   "codemirror_mode": {
    "name": "ipython",
    "version": 3
   },
   "file_extension": ".py",
   "mimetype": "text/x-python",
   "name": "python",
   "nbconvert_exporter": "python",
   "pygments_lexer": "ipython3",
   "version": "3.8.5"
  }
 },
 "nbformat": 4,
 "nbformat_minor": 4
}
