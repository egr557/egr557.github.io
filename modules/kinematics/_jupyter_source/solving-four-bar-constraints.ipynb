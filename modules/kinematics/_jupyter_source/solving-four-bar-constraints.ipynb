{
 "cells": [
  {
   "cell_type": "markdown",
   "metadata": {},
   "source": [
    "---\n",
    "title: Solving Four-Bar Constraints\n",
    "type: submodule\n",
    "---\n",
    "# Solving Four-Bar Constraints\n"
   ]
  },
  {
   "cell_type": "markdown",
   "metadata": {},
   "source": [
    "Turn on inline plotting"
   ]
  },
  {
   "cell_type": "code",
   "execution_count": 1,
   "metadata": {},
   "outputs": [],
   "source": [
    "%matplotlib inline"
   ]
  },
  {
   "cell_type": "markdown",
   "metadata": {},
   "source": [
    "import required packages"
   ]
  },
  {
   "cell_type": "code",
   "execution_count": 2,
   "metadata": {},
   "outputs": [],
   "source": [
    "import pynamics\n",
    "from pynamics.frame import Frame\n",
    "from pynamics.variable_types import Differentiable,Constant\n",
    "from pynamics.system import System\n",
    "#from pynamics.body import Body\n",
    "#from pynamics.dyadic import Dyadic\n",
    "from pynamics.output import Output,PointsOutput\n",
    "#from pynamics.particle import Particle\n",
    "import pynamics.integration\n",
    "import sympy\n",
    "import numpy\n",
    "import matplotlib.pyplot as plt\n",
    "plt.ion()\n",
    "from math import pi\n",
    "#from pynamics.constraint import Constraint\n",
    "import scipy.optimize\n"
   ]
  },
  {
   "cell_type": "markdown",
   "metadata": {},
   "source": [
    "Create a pynamics system"
   ]
  },
  {
   "cell_type": "code",
   "execution_count": 3,
   "metadata": {},
   "outputs": [],
   "source": [
    "system = System()\n",
    "pynamics.set_system(__name__,system)"
   ]
  },
  {
   "cell_type": "markdown",
   "metadata": {},
   "source": [
    "Declare constants"
   ]
  },
  {
   "cell_type": "code",
   "execution_count": 4,
   "metadata": {},
   "outputs": [],
   "source": [
    "lA = Constant(2,'lA',system)\n",
    "lB = Constant(1.5,'lB',system)\n",
    "lC = Constant(1,'lC',system)\n",
    "lD = Constant(1,'lD',system)"
   ]
  },
  {
   "cell_type": "markdown",
   "metadata": {},
   "source": [
    "Create three differentiable state variables"
   ]
  },
  {
   "cell_type": "code",
   "execution_count": 5,
   "metadata": {},
   "outputs": [],
   "source": [
    "qA,qA_d,qA_dd = Differentiable('qA',system)\n",
    "qB,qB_d,qB_dd = Differentiable('qB',system)\n",
    "qC,qC_d,qC_dd = Differentiable('qC',system)"
   ]
  },
  {
   "cell_type": "markdown",
   "metadata": {},
   "source": [
    "Create an initial guess for their starting positions.  Note that this is not necessarily accurate given the constraint that they are supposed to be connected with given, constant length.  We will use these initial values to seed the solver that will find a valid initial state"
   ]
  },
  {
   "cell_type": "code",
   "execution_count": 6,
   "metadata": {},
   "outputs": [],
   "source": [
    "initialvalues = {}\n",
    "initialvalues[qA]=-90*pi/180\n",
    "initialvalues[qA_d]=0*pi/180\n",
    "initialvalues[qB]=90*pi/180\n",
    "initialvalues[qB_d]=0*pi/180\n",
    "initialvalues[qC]=90*pi/180\n",
    "initialvalues[qC_d]=0*pi/180"
   ]
  },
  {
   "cell_type": "markdown",
   "metadata": {},
   "source": [
    "Retrieve state variables in the order they are stored in the system"
   ]
  },
  {
   "cell_type": "code",
   "execution_count": 7,
   "metadata": {},
   "outputs": [],
   "source": [
    "statevariables = system.get_state_variables()"
   ]
  },
  {
   "cell_type": "markdown",
   "metadata": {},
   "source": [
    "Create four frames"
   ]
  },
  {
   "cell_type": "code",
   "execution_count": 8,
   "metadata": {},
   "outputs": [],
   "source": [
    "N = Frame('N')\n",
    "A = Frame('A')\n",
    "B = Frame('B')\n",
    "C = Frame('C')"
   ]
  },
  {
   "cell_type": "markdown",
   "metadata": {},
   "source": [
    "Declare N as the Newtonian (fixed) frame"
   ]
  },
  {
   "cell_type": "code",
   "execution_count": 9,
   "metadata": {},
   "outputs": [],
   "source": [
    "system.set_newtonian(N)"
   ]
  },
  {
   "cell_type": "markdown",
   "metadata": {},
   "source": [
    "Rotate A,B, and C about their local Z axes."
   ]
  },
  {
   "cell_type": "code",
   "execution_count": 10,
   "metadata": {},
   "outputs": [],
   "source": [
    "A.rotate_fixed_axis_directed(N,[0,0,1],qA,system)\n",
    "B.rotate_fixed_axis_directed(A,[0,0,1],qB,system)\n",
    "C.rotate_fixed_axis_directed(B,[0,0,1],qC,system)"
   ]
  },
  {
   "cell_type": "markdown",
   "metadata": {},
   "source": [
    "Define vectors that will be used to solve for kinematics.  Note: this can be done several possible ways as in the figure below:\n",
    "\n",
    "![Four Bar Representations](../../../sketches/four-bar-representations.png)"
   ]
  },
  {
   "cell_type": "markdown",
   "metadata": {},
   "source": [
    "Define my rigid body kinematics"
   ]
  },
  {
   "cell_type": "code",
   "execution_count": 11,
   "metadata": {},
   "outputs": [],
   "source": [
    "pNA=0*N.x+0*N.y+0*N.z\n",
    "\n",
    "pAB=pNA+lA*A.x\n",
    "\n",
    "pBC = pAB + lB*B.x\n",
    "\n",
    "pCtip = pBC + lC*C.x\n",
    "\n",
    "pD = lD*N.x"
   ]
  },
  {
   "cell_type": "code",
   "execution_count": 12,
   "metadata": {},
   "outputs": [
    {
     "data": {
      "text/plain": [
       "pynamics.vector.Vector"
      ]
     },
     "execution_count": 12,
     "metadata": {},
     "output_type": "execute_result"
    }
   ],
   "source": [
    "type(pNA)"
   ]
  },
  {
   "cell_type": "code",
   "execution_count": 13,
   "metadata": {},
   "outputs": [
    {
     "data": {
      "text/plain": [
       "pynamics.frame.Frame"
      ]
     },
     "execution_count": 13,
     "metadata": {},
     "output_type": "execute_result"
    }
   ],
   "source": [
    "type(A)"
   ]
  },
  {
   "cell_type": "code",
   "execution_count": 14,
   "metadata": {},
   "outputs": [
    {
     "data": {
      "text/plain": [
       "pynamics.vector.Vector"
      ]
     },
     "execution_count": 14,
     "metadata": {},
     "output_type": "execute_result"
    }
   ],
   "source": [
    "type(A.x)"
   ]
  },
  {
   "cell_type": "code",
   "execution_count": 15,
   "metadata": {},
   "outputs": [],
   "source": [
    "pout = pAB + 3*B.x-2*B.y"
   ]
  },
  {
   "cell_type": "markdown",
   "metadata": {},
   "source": [
    "Declare a list of points that will be used for plotting"
   ]
  },
  {
   "cell_type": "code",
   "execution_count": 16,
   "metadata": {},
   "outputs": [],
   "source": [
    "points = [pNA,pAB,pBC,pCtip]"
   ]
  },
  {
   "cell_type": "markdown",
   "metadata": {},
   "source": [
    "create a list of initial values ini0 in the order of the system's state variables"
   ]
  },
  {
   "cell_type": "code",
   "execution_count": 17,
   "metadata": {},
   "outputs": [],
   "source": [
    "statevariables = system.get_state_variables()\n",
    "ini0 = [initialvalues[item] for item in statevariables]"
   ]
  },
  {
   "cell_type": "markdown",
   "metadata": {},
   "source": [
    "Define the closed loop kinematics of the four bar linkage."
   ]
  },
  {
   "cell_type": "code",
   "execution_count": 18,
   "metadata": {},
   "outputs": [],
   "source": [
    "eq_vector = pCtip-pD"
   ]
  },
  {
   "cell_type": "markdown",
   "metadata": {},
   "source": [
    "Dot the vector equation with N.x and N.y to create two scalar equations.  This will remove two degrees of freedom from our system."
   ]
  },
  {
   "cell_type": "code",
   "execution_count": 19,
   "metadata": {},
   "outputs": [],
   "source": [
    "eq = []\n",
    "eq.append((eq_vector).dot(N.x))\n",
    "eq.append((eq_vector).dot(N.y))\n",
    "eq_d=[(system.derivative(item)) for item in eq]"
   ]
  },
  {
   "cell_type": "markdown",
   "metadata": {},
   "source": [
    "## Solve for valid initial condition determined by independent variable"
   ]
  },
  {
   "cell_type": "markdown",
   "metadata": {},
   "source": [
    "identify independent and dependent variables"
   ]
  },
  {
   "cell_type": "code",
   "execution_count": 20,
   "metadata": {},
   "outputs": [],
   "source": [
    "qi = [qA]\n",
    "qd = [qB,qC]"
   ]
  },
  {
   "cell_type": "markdown",
   "metadata": {},
   "source": [
    "for dependent variables, create an initial guess"
   ]
  },
  {
   "cell_type": "markdown",
   "metadata": {},
   "source": [
    "Create a copy of symbolic constants dictionary and add the initial value of qi to it"
   ]
  },
  {
   "cell_type": "code",
   "execution_count": 21,
   "metadata": {},
   "outputs": [],
   "source": [
    "constants = system.constant_values.copy()\n",
    "defined = dict([(item,initialvalues[item]) for item in qi])\n",
    "constants.update(defined)"
   ]
  },
  {
   "cell_type": "markdown",
   "metadata": {},
   "source": [
    "substitute constants in equation"
   ]
  },
  {
   "cell_type": "code",
   "execution_count": 22,
   "metadata": {},
   "outputs": [],
   "source": [
    "eq = [item.subs(constants) for item in eq]"
   ]
  },
  {
   "cell_type": "markdown",
   "metadata": {},
   "source": [
    "convert to numpy array"
   ]
  },
  {
   "cell_type": "markdown",
   "metadata": {},
   "source": [
    "sum the error"
   ]
  },
  {
   "cell_type": "code",
   "execution_count": 23,
   "metadata": {},
   "outputs": [],
   "source": [
    "error = (numpy.array(eq)**2).sum()"
   ]
  },
  {
   "cell_type": "markdown",
   "metadata": {},
   "source": [
    "Convert to a function that scipy can use.  Sympy has a \"labmdify\" function that evaluates an expression, but scipy needs a slightly different format."
   ]
  },
  {
   "cell_type": "code",
   "execution_count": 24,
   "metadata": {},
   "outputs": [],
   "source": [
    "f = sympy.lambdify(qd,error)\n",
    "\n",
    "def function(args):\n",
    "    return f(*args)"
   ]
  },
  {
   "cell_type": "markdown",
   "metadata": {},
   "source": [
    "Take the derivative of the equations to linearize with regard to the velocity variables"
   ]
  },
  {
   "cell_type": "code",
   "execution_count": 25,
   "metadata": {},
   "outputs": [],
   "source": [
    "guess = [initialvalues[item] for item in qd]"
   ]
  },
  {
   "cell_type": "code",
   "execution_count": 26,
   "metadata": {},
   "outputs": [],
   "source": [
    "result = scipy.optimize.minimize(function,guess)\n",
    "if result.fun>1e-3:\n",
    "    raise(Exception(\"out of tolerance\"))"
   ]
  },
  {
   "cell_type": "code",
   "execution_count": 27,
   "metadata": {},
   "outputs": [],
   "source": [
    "ini = []\n",
    "for item in system.get_state_variables():\n",
    "    if item in qd:\n",
    "        ini.append(result.x[qd.index(item)])\n",
    "    else:\n",
    "        ini.append(initialvalues[item])"
   ]
  },
  {
   "cell_type": "code",
   "execution_count": 28,
   "metadata": {},
   "outputs": [
    {
     "name": "stderr",
     "output_type": "stream",
     "text": [
      "2021-02-15 16:31:49,166 - pynamics.output - INFO - calculating outputs\n",
      "2021-02-15 16:31:49,167 - pynamics.output - INFO - done calculating outputs\n"
     ]
    },
    {
     "data": {
      "text/plain": [
       "<AxesSubplot:>"
      ]
     },
     "execution_count": 28,
     "metadata": {},
     "output_type": "execute_result"
    },
    {
     "data": {
      "image/png": "[encoded data removed]",
      "text/plain": [
       "<Figure size 432x288 with 1 Axes>"
      ]
     },
     "metadata": {
      "needs_background": "light"
     },
     "output_type": "display_data"
    }
   ],
   "source": [
    "points = PointsOutput(points, constant_values=system.constant_values)\n",
    "points.calc(numpy.array([ini0,ini]))\n",
    "points.plot_time()"
   ]
  },
  {
   "cell_type": "code",
   "execution_count": 29,
   "metadata": {},
   "outputs": [
    {
     "data": {
      "text/plain": [
       "5.147432205526916e-14"
      ]
     },
     "execution_count": 29,
     "metadata": {},
     "output_type": "execute_result"
    }
   ],
   "source": [
    "result.fun"
   ]
  },
  {
   "cell_type": "markdown",
   "metadata": {},
   "source": [
    "## Find Internal Jacobian\n",
    "\n",
    "Now, given a valid configuration, solve for the linearized, velocity-based constraint equation.  If \n",
    "\n",
    "$$eq = \\textbf{A} q_i + \\textbf{B} q_d = 0$$\n",
    "then, solving for $q_d$, \n",
    "$$-\\textbf{B}q_d = \\textbf{A}q_i$$\n",
    "$$q_d = -\\textbf{B}^{-1}\\textbf{A}q_i$$\n",
    "\n",
    "Turn constraint equations into a vector"
   ]
  },
  {
   "cell_type": "code",
   "execution_count": 30,
   "metadata": {},
   "outputs": [],
   "source": [
    "eq_d = sympy.Matrix(eq_d)"
   ]
  },
  {
   "cell_type": "markdown",
   "metadata": {},
   "source": [
    "Turn qi and qd into sympy vectors"
   ]
  },
  {
   "cell_type": "code",
   "execution_count": 31,
   "metadata": {},
   "outputs": [],
   "source": [
    "qi = sympy.Matrix([qA_d])\n",
    "qd = sympy.Matrix([qB_d,qC_d])"
   ]
  },
  {
   "cell_type": "markdown",
   "metadata": {},
   "source": [
    "take partial derivative of constraints with respect to independent and dependent variables:"
   ]
  },
  {
   "cell_type": "code",
   "execution_count": 32,
   "metadata": {},
   "outputs": [],
   "source": [
    "AA = eq_d.jacobian(qi)\n",
    "BB = eq_d.jacobian(qd)"
   ]
  },
  {
   "cell_type": "markdown",
   "metadata": {},
   "source": [
    "Solve for internal input/output Jacobian"
   ]
  },
  {
   "cell_type": "code",
   "execution_count": 33,
   "metadata": {
    "scrolled": true
   },
   "outputs": [
    {
     "data": {
      "text/plain": [
       "⎡                                                       (-sin(qA)⋅sin(qB)⋅sin(\n",
       "⎢                                                     - ──────────────────────\n",
       "⎢                                                                             \n",
       "⎢                                                                             \n",
       "⎢                                                                             \n",
       "⎢  (-lA⋅sin(qA) - lB⋅sin(qA)⋅cos(qB) - lB⋅sin(qB)⋅cos(qA) + lC⋅(sin(qA)⋅sin(qB\n",
       "⎢- ───────────────────────────────────────────────────────────────────────────\n",
       "⎢                                                                             \n",
       "⎣                                                                             \n",
       "\n",
       "qC) + sin(qA)⋅cos(qB)⋅cos(qC) + sin(qB)⋅cos(qA)⋅cos(qC) + sin(qC)⋅cos(qA)⋅cos(\n",
       "──────────────────────────────────────────────────────────────────────────────\n",
       "                                                     2        2               \n",
       "                                               lB⋅sin (qA)⋅sin (qB)⋅sin(qC) + \n",
       "                                                                              \n",
       ") - cos(qA)⋅cos(qB))⋅sin(qC) + lC⋅(-sin(qA)⋅cos(qB) - sin(qB)⋅cos(qA))⋅cos(qC)\n",
       "──────────────────────────────────────────────────────────────────────────────\n",
       "                       2        2                        2                2   \n",
       "              lB⋅lC⋅sin (qA)⋅sin (qB)⋅sin(qC) + lB⋅lC⋅sin (qA)⋅sin(qC)⋅cos (qB\n",
       "\n",
       "qB))⋅(lA⋅cos(qA) - lB⋅sin(qA)⋅sin(qB) + lB⋅cos(qA)⋅cos(qB) + lC⋅(-sin(qA)⋅sin(\n",
       "──────────────────────────────────────────────────────────────────────────────\n",
       "      2                2             2                2                     2 \n",
       "lB⋅sin (qA)⋅sin(qC)⋅cos (qB) + lB⋅sin (qB)⋅sin(qC)⋅cos (qA) + lB⋅sin(qC)⋅cos (\n",
       "                                                                              \n",
       ")⋅(lB⋅sin(qA)⋅sin(qB) - lB⋅cos(qA)⋅cos(qB) + lC⋅sin(qA)⋅sin(qB)⋅cos(qC) + lC⋅s\n",
       "──────────────────────────────────────────────────────────────────────────────\n",
       "             2                2                        2        2             \n",
       ") + lB⋅lC⋅sin (qB)⋅sin(qC)⋅cos (qA) + lB⋅lC⋅sin(qC)⋅cos (qA)⋅cos (qB)         \n",
       "\n",
       "qB) + cos(qA)⋅cos(qB))⋅cos(qC) + lC⋅(-sin(qA)⋅cos(qB) - sin(qB)⋅cos(qA))⋅sin(q\n",
       "──────────────────────────────────────────────────────────────────────────────\n",
       "       2                                                                      \n",
       "qA)⋅cos (qB)                                                                  \n",
       "                                                                              \n",
       "in(qA)⋅sin(qC)⋅cos(qB) + lC⋅sin(qB)⋅sin(qC)⋅cos(qA) - lC⋅cos(qA)⋅cos(qB)⋅cos(q\n",
       "──────────────────────────────────────────────────────────────────────────────\n",
       "                                                                              \n",
       "                                                                              \n",
       "\n",
       "C))   (-sin(qA)⋅sin(qB)⋅cos(qC) - sin(qA)⋅sin(qC)⋅cos(qB) - sin(qB)⋅sin(qC)⋅co\n",
       "─── - ────────────────────────────────────────────────────────────────────────\n",
       "                                                                              \n",
       "                                                                           lB⋅\n",
       "                                                                              \n",
       "C))   (lA⋅cos(qA) - lB⋅sin(qA)⋅sin(qB) + lB⋅cos(qA)⋅cos(qB) + lC⋅(-sin(qA)⋅sin\n",
       "─── - ────────────────────────────────────────────────────────────────────────\n",
       "                                                                              \n",
       "                                                                              \n",
       "\n",
       "s(qA) + cos(qA)⋅cos(qB)⋅cos(qC))⋅(-lA⋅sin(qA) - lB⋅sin(qA)⋅cos(qB) - lB⋅sin(qB\n",
       "──────────────────────────────────────────────────────────────────────────────\n",
       "   2        2                     2                2             2            \n",
       "sin (qA)⋅sin (qB)⋅sin(qC) + lB⋅sin (qA)⋅sin(qC)⋅cos (qB) + lB⋅sin (qB)⋅sin(qC)\n",
       "                                                                              \n",
       "(qB) + cos(qA)⋅cos(qB))⋅cos(qC) + lC⋅(-sin(qA)⋅cos(qB) - sin(qB)⋅cos(qA))⋅sin(\n",
       "──────────────────────────────────────────────────────────────────────────────\n",
       "                           2        2                        2                \n",
       "                  lB⋅lC⋅sin (qA)⋅sin (qB)⋅sin(qC) + lB⋅lC⋅sin (qA)⋅sin(qC)⋅cos\n",
       "\n",
       ")⋅cos(qA) + lC⋅(sin(qA)⋅sin(qB) - cos(qA)⋅cos(qB))⋅sin(qC) + lC⋅(-sin(qA)⋅cos(\n",
       "──────────────────────────────────────────────────────────────────────────────\n",
       "    2                     2        2                                          \n",
       "⋅cos (qA) + lB⋅sin(qC)⋅cos (qA)⋅cos (qB)                                      \n",
       "                                                                              \n",
       "qC))⋅(-lB⋅sin(qA)⋅cos(qB) - lB⋅sin(qB)⋅cos(qA) + lC⋅sin(qA)⋅sin(qB)⋅sin(qC) - \n",
       "──────────────────────────────────────────────────────────────────────────────\n",
       "2                2                2                        2        2         \n",
       " (qB) + lB⋅lC⋅sin (qB)⋅sin(qC)⋅cos (qA) + lB⋅lC⋅sin(qC)⋅cos (qA)⋅cos (qB)     \n",
       "\n",
       "qB) - sin(qB)⋅cos(qA))⋅cos(qC))                                               \n",
       "───────────────────────────────                                               \n",
       "                                                                              \n",
       "                                                                              \n",
       "                                                                              \n",
       "lC⋅sin(qA)⋅cos(qB)⋅cos(qC) - lC⋅sin(qB)⋅cos(qA)⋅cos(qC) - lC⋅sin(qC)⋅cos(qA)⋅c\n",
       "──────────────────────────────────────────────────────────────────────────────\n",
       "                                                                              \n",
       "                                                                              \n",
       "\n",
       "       ⎤\n",
       "       ⎥\n",
       "       ⎥\n",
       "       ⎥\n",
       "       ⎥\n",
       "os(qB))⎥\n",
       "───────⎥\n",
       "       ⎥\n",
       "       ⎦"
      ]
     },
     "execution_count": 33,
     "metadata": {},
     "output_type": "execute_result"
    }
   ],
   "source": [
    "J = -BB.inv()*AA\n",
    "J"
   ]
  },
  {
   "cell_type": "markdown",
   "metadata": {},
   "source": [
    "That expression is quite long.  We can use the simplify function provided by sympy to shorten the expression:"
   ]
  },
  {
   "cell_type": "code",
   "execution_count": 34,
   "metadata": {},
   "outputs": [
    {
     "data": {
      "text/plain": [
       "⎡ ⎛lA⋅sin(qB)                  ⎞  ⎤\n",
       "⎢-⎜────────── + lA⋅cos(qB) + lB⎟  ⎥\n",
       "⎢ ⎝ tan(qC)                    ⎠  ⎥\n",
       "⎢──────────────────────────────── ⎥\n",
       "⎢               lB                ⎥\n",
       "⎢                                 ⎥\n",
       "⎢lA⋅(lB⋅sin(qB) + lC⋅sin(qB + qC))⎥\n",
       "⎢─────────────────────────────────⎥\n",
       "⎣          lB⋅lC⋅sin(qC)          ⎦"
      ]
     },
     "execution_count": 34,
     "metadata": {},
     "output_type": "execute_result"
    }
   ],
   "source": [
    "J.simplify()\n",
    "J"
   ]
  },
  {
   "cell_type": "markdown",
   "metadata": {},
   "source": [
    "Solving for the dependent variables $q_d$:"
   ]
  },
  {
   "cell_type": "code",
   "execution_count": 35,
   "metadata": {},
   "outputs": [
    {
     "data": {
      "text/plain": [
       "⎡      ⎛lA⋅sin(qB)                  ⎞  ⎤\n",
       "⎢-qA_d⋅⎜────────── + lA⋅cos(qB) + lB⎟  ⎥\n",
       "⎢      ⎝ tan(qC)                    ⎠  ⎥\n",
       "⎢───────────────────────────────────── ⎥\n",
       "⎢                  lB                  ⎥\n",
       "⎢                                      ⎥\n",
       "⎢lA⋅qA_d⋅(lB⋅sin(qB) + lC⋅sin(qB + qC))⎥\n",
       "⎢──────────────────────────────────────⎥\n",
       "⎣            lB⋅lC⋅sin(qC)             ⎦"
      ]
     },
     "execution_count": 35,
     "metadata": {},
     "output_type": "execute_result"
    }
   ],
   "source": [
    "qd2 = J*qi\n",
    "qd2"
   ]
  },
  {
   "cell_type": "markdown",
   "metadata": {},
   "source": [
    "Now we can create a substitution dictionary to replace all occurrances of $\\dot{q}_b$ and  $\\dot{q}_c$"
   ]
  },
  {
   "cell_type": "code",
   "execution_count": 42,
   "metadata": {},
   "outputs": [
    {
     "data": {
      "text/plain": [
       "⎧            ⎛lA⋅sin(qB)                  ⎞                                   \n",
       "⎪      -qA_d⋅⎜────────── + lA⋅cos(qB) + lB⎟                                   \n",
       "⎨            ⎝ tan(qC)                    ⎠         lA⋅qA_d⋅(lB⋅sin(qB) + lC⋅s\n",
       "⎪qB_d: ─────────────────────────────────────, qC_d: ──────────────────────────\n",
       "⎩                        lB                                     lB⋅lC⋅sin(qC) \n",
       "\n",
       "            ⎫\n",
       "            ⎪\n",
       "in(qB + qC))⎬\n",
       "────────────⎪\n",
       "            ⎭"
      ]
     },
     "execution_count": 42,
     "metadata": {},
     "output_type": "execute_result"
    }
   ],
   "source": [
    "subs = dict([(ii,jj) for ii,jj in zip(qd,qd2)])\n",
    "subs"
   ]
  },
  {
   "cell_type": "markdown",
   "metadata": {},
   "source": [
    "Now pick an end-effector"
   ]
  },
  {
   "cell_type": "code",
   "execution_count": 43,
   "metadata": {},
   "outputs": [
    {
     "data": {
      "text/plain": [
       "lA*A.x + 3*B.x - 2*B.y"
      ]
     },
     "execution_count": 43,
     "metadata": {},
     "output_type": "execute_result"
    }
   ],
   "source": [
    "pout"
   ]
  },
  {
   "cell_type": "code",
   "execution_count": 44,
   "metadata": {},
   "outputs": [],
   "source": [
    "vout = pout.time_derivative()"
   ]
  },
  {
   "cell_type": "code",
   "execution_count": 45,
   "metadata": {},
   "outputs": [
    {
     "data": {
      "text/plain": [
       "lA*qA_d*A.y + B.x*(2*qA_d + 2*qB_d) + B.y*(3*qA_d + 3*qB_d)"
      ]
     },
     "execution_count": 45,
     "metadata": {},
     "output_type": "execute_result"
    }
   ],
   "source": [
    "vout"
   ]
  },
  {
   "cell_type": "code",
   "execution_count": 46,
   "metadata": {},
   "outputs": [],
   "source": [
    "vout = vout.subs(subs)"
   ]
  },
  {
   "cell_type": "code",
   "execution_count": 47,
   "metadata": {},
   "outputs": [
    {
     "data": {
      "text/plain": [
       "lA*qA_d*A.y + B.x*(2*qA_d - 2*qA_d*(lA*sin(qB)/tan(qC) + lA*cos(qB) + lB)/lB) + B.y*(3*qA_d - 3*qA_d*(lA*sin(qB)/tan(qC) + lA*cos(qB) + lB)/lB)"
      ]
     },
     "execution_count": 47,
     "metadata": {},
     "output_type": "execute_result"
    }
   ],
   "source": [
    "vout"
   ]
  },
  {
   "cell_type": "code",
   "execution_count": null,
   "metadata": {},
   "outputs": [],
   "source": []
  },
  {
   "cell_type": "code",
   "execution_count": null,
   "metadata": {},
   "outputs": [],
   "source": []
  }
 ],
 "metadata": {
  "kernelspec": {
   "display_name": "Python 3",
   "language": "python",
   "name": "python3"
  },
  "language_info": {
   "codemirror_mode": {
    "name": "ipython",
    "version": 3
   },
   "file_extension": ".py",
   "mimetype": "text/x-python",
   "name": "python",
   "nbconvert_exporter": "python",
   "pygments_lexer": "ipython3",
   "version": "3.7.9"
  }
 },
 "nbformat": 4,
 "nbformat_minor": 4
}
