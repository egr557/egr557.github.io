{
 "cells": [
  {
   "cell_type": "markdown",
   "metadata": {},
   "source": [
    "---\n",
    "title: Design Optimization\n",
    "type: submodule\n",
    "---\n",
    "\n"
   ]
  },
  {
   "cell_type": "code",
   "execution_count": 1,
   "metadata": {},
   "outputs": [],
   "source": [
    "import numpy\n",
    "import matplotlib.pyplot as plt\n",
    "import scipy.optimize\n",
    "import numpy.random\n",
    "import cma\n",
    "from math import pi\n",
    "import math\n",
    "\n",
    "def length(v1):\n",
    "    '''\n",
    "    finds the length of a vector\n",
    "    \n",
    "    :param v1: the vector\n",
    "    :type v1: tuple or list of floats\n",
    "    :rtype: float\n",
    "    '''\n",
    "    v1 = numpy.array(v1).flatten()\n",
    "    l = (v1.dot(v1))**.5\n",
    "    return l"
   ]
  },
  {
   "cell_type": "code",
   "execution_count": 2,
   "metadata": {},
   "outputs": [],
   "source": [
    "def inner_angle(v1,v2):\n",
    "    '''\n",
    "    finds the interior angle between two vectors\n",
    "    \n",
    "    :param v1: the first vector\n",
    "    :type v1: tuple or list of floats\n",
    "    :param v2: the second vector\n",
    "    :type v2: tuple or list of floats\n",
    "    :rtype: float\n",
    "    '''\n",
    "    v1 = numpy.array(v1).flatten()\n",
    "    l1 = length(v1)\n",
    "    v2 = numpy.array(v2).flatten()\n",
    "    l2 = length(v2)\n",
    "    cost = numpy.dot(v1,v2)/l1/l2\n",
    "    t = math.acos(cost)\n",
    "    return t\n",
    "\n",
    "l1 = 1\n",
    "l2 = 1\n",
    "l3 = 1\n",
    "l4 = 1"
   ]
  },
  {
   "cell_type": "code",
   "execution_count": 12,
   "metadata": {},
   "outputs": [],
   "source": [
    "def solve_kinematics(x):\n",
    "    x1,y1,x2,y2,x3,y3,x4,y4 = x\n",
    "\n",
    "    p1 = x1,y1\n",
    "    p2 = x2,y2\n",
    "    p3 = x3,y3\n",
    "    p4 = x4,y4\n",
    "    \n",
    "    p1 = numpy.array(p1)\n",
    "    p2 = numpy.array(p2)\n",
    "    p3 = numpy.array(p3)\n",
    "    p4 = numpy.array(p4)\n",
    "    \n",
    "    v1 = p2-p1\n",
    "    v2 = p3-p2\n",
    "    v3 = p4-p3\n",
    "    v4 = p1-p4\n",
    "    \n",
    "    eq = []\n",
    "    eq.append(length(v1) - l1)\n",
    "    eq.append(length(v2) - l2)\n",
    "    eq.append(length(v3) - l3)\n",
    "    eq.append(length(v4) - l4)\n",
    "    eq.append(x1)\n",
    "    eq.append(y1)\n",
    "    eq.append(y2)\n",
    "    eq.append(inner_angle(v1,v4)-30*pi/180)\n",
    "    eq = numpy.array(eq)\n",
    "    error = length(eq)\n",
    "    return error"
   ]
  },
  {
   "cell_type": "code",
   "execution_count": 28,
   "metadata": {},
   "outputs": [],
   "source": [
    "def create_kinematics(design_params):\n",
    "    l1,l2,l3,l4 = design_params\n",
    "    def solve_position(q):\n",
    "        def solve_kinematics(x):\n",
    "            x1,y1,x2,y2,x3,y3,x4,y4 = x\n",
    "\n",
    "            p1 = x1,y1\n",
    "            p2 = x2,y2\n",
    "            p3 = x3,y3\n",
    "            p4 = x4,y4\n",
    "\n",
    "            p1 = numpy.array(p1)\n",
    "            p2 = numpy.array(p2)\n",
    "            p3 = numpy.array(p3)\n",
    "            p4 = numpy.array(p4)\n",
    "\n",
    "            v1 = p2-p1\n",
    "            v2 = p3-p2\n",
    "            v3 = p4-p3\n",
    "            v4 = p1-p4\n",
    "\n",
    "            eq = []\n",
    "            eq.append(length(v1) - l1)\n",
    "            eq.append(length(v2) - l2)\n",
    "            eq.append(length(v3) - l3)\n",
    "            eq.append(length(v4) - l4)\n",
    "            eq.append(x1)\n",
    "            eq.append(y1)\n",
    "            eq.append(y2)\n",
    "            eq.append(inner_angle(v1,v4)-q)\n",
    "            eq = numpy.array(eq)\n",
    "            error = length(eq)\n",
    "            return error\n",
    "        return solve_kinematics\n",
    "    return solve_position\n",
    "\n",
    "f_position = create_kinematics([1,1,1,1])\n",
    "f_my_position=f_position(30*pi/180)"
   ]
  },
  {
   "cell_type": "code",
   "execution_count": 29,
   "metadata": {},
   "outputs": [],
   "source": [
    "def plot_kinematics(x):\n",
    "    x1,y1,x2,y2,x3,y3,x4,y4 = x\n",
    "\n",
    "    p1 = x1,y1\n",
    "    p2 = x2,y2\n",
    "    p3 = x3,y3\n",
    "    p4 = x4,y4\n",
    "    \n",
    "    p1 = numpy.array(p1)\n",
    "    p2 = numpy.array(p2)\n",
    "    p3 = numpy.array(p3)\n",
    "    p4 = numpy.array(p4)\n",
    "    \n",
    "    points = p1,p2,p3,p4,p1\n",
    "    points = numpy.array(points)\n",
    "    plt.plot(*(points.T))"
   ]
  },
  {
   "cell_type": "code",
   "execution_count": 30,
   "metadata": {},
   "outputs": [],
   "source": [
    "ini = [0,0,1,0,1,1,0,1]\n",
    "result  = scipy.optimize.minimize(f_my_position,ini)"
   ]
  },
  {
   "cell_type": "code",
   "execution_count": 31,
   "metadata": {},
   "outputs": [
    {
     "data": {
      "text/plain": [
       "7.915920094303794e-08"
      ]
     },
     "execution_count": 31,
     "metadata": {},
     "output_type": "execute_result"
    }
   ],
   "source": [
    "result.fun"
   ]
  },
  {
   "cell_type": "code",
   "execution_count": 32,
   "metadata": {},
   "outputs": [
    {
     "data": {
      "text/plain": [
       "array([-5.37743668e-08, -3.46020796e-08,  9.99999940e-01,  2.96521731e-08,\n",
       "        1.33974476e-01,  4.99999874e-01, -8.66025509e-01,  4.99999909e-01])"
      ]
     },
     "execution_count": 32,
     "metadata": {},
     "output_type": "execute_result"
    }
   ],
   "source": [
    "result.x"
   ]
  },
  {
   "cell_type": "code",
   "execution_count": 33,
   "metadata": {},
   "outputs": [
    {
     "data": {
      "image/png": "[encoded data removed]",
      "text/plain": [
       "<Figure size 432x288 with 1 Axes>"
      ]
     },
     "metadata": {
      "needs_background": "light"
     },
     "output_type": "display_data"
    }
   ],
   "source": [
    "plot_kinematics(result.x)"
   ]
  },
  {
   "cell_type": "code",
   "execution_count": null,
   "metadata": {},
   "outputs": [],
   "source": [
    "def solve_constraints(params):\n",
    "    l1,l2,l3,l4 = params\n",
    "    x"
   ]
  },
  {
   "cell_type": "code",
   "execution_count": null,
   "metadata": {},
   "outputs": [],
   "source": []
  }
 ],
 "metadata": {
  "kernelspec": {
   "display_name": "Python 3",
   "language": "python",
   "name": "python3"
  },
  "language_info": {
   "codemirror_mode": {
    "name": "ipython",
    "version": 3
   },
   "file_extension": ".py",
   "mimetype": "text/x-python",
   "name": "python",
   "nbconvert_exporter": "python",
   "pygments_lexer": "ipython3",
   "version": "3.8.5"
  }
 },
 "nbformat": 4,
 "nbformat_minor": 4
}
