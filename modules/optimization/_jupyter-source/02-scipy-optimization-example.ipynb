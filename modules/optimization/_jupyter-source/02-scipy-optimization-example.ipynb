{
 "cells": [
  {
   "cell_type": "markdown",
   "metadata": {},
   "source": [
    "---\n",
    "title: Scipy Optimization Example\n",
    "type: submodule\n",
    "---\n",
    "# Scipy Optimization Example\n",
    "\n",
    "This short example shows you how to use the scipy minimize function to identify model parameters.  This example is set up similarly to the linear least squares example for consistency.  Being able to define pretty much anything in a python function, however, gives you great power to customize this, as opposed to a specific approach like linear least squares.\n",
    "\n",
    "First, we import all the necessary modules"
   ]
  },
  {
   "cell_type": "code",
   "execution_count": 1,
   "metadata": {},
   "outputs": [],
   "source": [
    "%matplotlib inline\n",
    "import numpy\n",
    "import numpy.random\n",
    "import matplotlib.pyplot as plt\n",
    "import numpy.linalg\n",
    "import scipy.optimize"
   ]
  },
  {
   "cell_type": "markdown",
   "metadata": {},
   "source": [
    "Next create the x matrix"
   ]
  },
  {
   "cell_type": "code",
   "execution_count": 2,
   "metadata": {},
   "outputs": [],
   "source": [
    "x = numpy.r_[-10:10:.5]"
   ]
  },
  {
   "cell_type": "markdown",
   "metadata": {},
   "source": [
    "Next, define a y vector based on some model.  Note: you can use any of these models or add them together.  We scale the output in this example to eliminate the natural weighting of each of these functions over the given range."
   ]
  },
  {
   "cell_type": "code",
   "execution_count": 3,
   "metadata": {},
   "outputs": [],
   "source": [
    "#y = x\n",
    "y = x**2\n",
    "#y = x**3\n",
    "#y = numpy.sin(x)\n",
    "y /= y.max()"
   ]
  },
  {
   "cell_type": "markdown",
   "metadata": {},
   "source": [
    "Add some noise to y:"
   ]
  },
  {
   "cell_type": "code",
   "execution_count": 4,
   "metadata": {},
   "outputs": [],
   "source": [
    "rand = numpy.random.randn(*y.shape)/10\n",
    "y_rand = y + rand"
   ]
  },
  {
   "cell_type": "markdown",
   "metadata": {},
   "source": [
    "Create an A matrix consisting of several different models"
   ]
  },
  {
   "cell_type": "code",
   "execution_count": 5,
   "metadata": {},
   "outputs": [],
   "source": [
    "A = numpy.array([(x),(x)**2,(x)**3,numpy.sin(x)]).T"
   ]
  },
  {
   "cell_type": "markdown",
   "metadata": {},
   "source": [
    "Now create a function that outputs the sum of squared error of each model applied to the given x.  In this case we are solving for the weighting coefficients, $k$, as in the linear least squares example:"
   ]
  },
  {
   "cell_type": "code",
   "execution_count": 6,
   "metadata": {},
   "outputs": [],
   "source": [
    "def myfunc(k):\n",
    "    # make sure our coefficients are in the form of a numpy array\n",
    "    k = numpy.array(k)\n",
    "    # generate y* = Ak^T\n",
    "    y_model = A.dot(k.T)\n",
    "    # sum the square of the error of our model against the input data, y_rand\n",
    "    error = ((y_model-y_rand)**2).sum()\n",
    "    #return the error\n",
    "    return error"
   ]
  },
  {
   "cell_type": "markdown",
   "metadata": {},
   "source": [
    "Create an initial guess for each of the weights.  In this case we just give each coefficient the value of 1 as an initial guess"
   ]
  },
  {
   "cell_type": "code",
   "execution_count": 7,
   "metadata": {},
   "outputs": [
    {
     "data": {
      "text/plain": [
       "[1, 1, 1, 1]"
      ]
     },
     "execution_count": 7,
     "metadata": {},
     "output_type": "execute_result"
    }
   ],
   "source": [
    "ini = [1]*A.shape[1]\n",
    "ini"
   ]
  },
  {
   "cell_type": "markdown",
   "metadata": {},
   "source": [
    "Now, call the minimize function.  The first value should be the function you are trying to minimize, and the \n",
    "For more information see the optimization function [page](https://docs.scipy.org/doc/scipy/reference/generated/scipy.optimize.minimize.html)"
   ]
  },
  {
   "cell_type": "code",
   "execution_count": 8,
   "metadata": {},
   "outputs": [
    {
     "data": {
      "text/plain": [
       "      fun: 0.28702720540291854\n",
       " hess_inv: array([[ 2.35078353e-03, -1.23710166e-05, -3.31813435e-05,\n",
       "         4.86252223e-04],\n",
       "       [-1.23710166e-05,  6.46844764e-06,  3.00084348e-07,\n",
       "        -3.66529431e-05],\n",
       "       [-3.31813435e-05,  3.00084348e-07,  5.62458858e-07,\n",
       "        -1.91576266e-05],\n",
       "       [ 4.86252223e-04, -3.66529431e-05, -1.91576266e-05,\n",
       "         2.78470245e-02]])\n",
       "      jac: array([3.7252903e-09, 3.7252903e-09, 3.7252903e-09, 3.7252903e-09])\n",
       "  message: 'Optimization terminated successfully.'\n",
       "     nfev: 65\n",
       "      nit: 9\n",
       "     njev: 13\n",
       "   status: 0\n",
       "  success: True\n",
       "        x: array([-1.87589993e-03,  1.03221832e-02,  6.09189996e-05,  3.43725716e-03])"
      ]
     },
     "execution_count": 8,
     "metadata": {},
     "output_type": "execute_result"
    }
   ],
   "source": [
    "sol = scipy.optimize.minimize(myfunc,ini)\n",
    "sol"
   ]
  },
  {
   "cell_type": "markdown",
   "metadata": {},
   "source": [
    "```sol.x``` contains the solution for $k$"
   ]
  },
  {
   "cell_type": "code",
   "execution_count": 9,
   "metadata": {},
   "outputs": [
    {
     "data": {
      "text/plain": [
       "array([-1.87589993e-03,  1.03221832e-02,  6.09189996e-05,  3.43725716e-03])"
      ]
     },
     "execution_count": 9,
     "metadata": {},
     "output_type": "execute_result"
    }
   ],
   "source": [
    "k_optimum = sol.x\n",
    "k_optimum"
   ]
  },
  {
   "cell_type": "code",
   "execution_count": 10,
   "metadata": {},
   "outputs": [
    {
     "data": {
      "text/plain": [
       "[Text(0, 0, '$x$'),\n",
       " Text(1, 0, '$x^2$'),\n",
       " Text(2, 0, '$x^3$'),\n",
       " Text(3, 0, '$\\\\sin(x)$')]"
      ]
     },
     "execution_count": 10,
     "metadata": {},
     "output_type": "execute_result"
    },
    {
     "data": {
      "image/png": "[encoded data removed]",
      "text/plain": [
       "<Figure size 432x288 with 1 Axes>"
      ]
     },
     "metadata": {
      "needs_background": "light"
     },
     "output_type": "display_data"
    }
   ],
   "source": [
    "xx = numpy.r_[:4]\n",
    "labels = '$x$','$x^2$','$x^3$','$\\sin(x)$'\n",
    "f = plt.figure()\n",
    "ax = f.add_subplot()\n",
    "ax.bar(xx,k_optimum)\n",
    "ax.set_xticks(xx)\n",
    "ax.set_xticklabels(labels)"
   ]
  },
  {
   "cell_type": "markdown",
   "metadata": {},
   "source": [
    "Now generate $y^*$"
   ]
  },
  {
   "cell_type": "code",
   "execution_count": 11,
   "metadata": {},
   "outputs": [],
   "source": [
    "y_model = A.dot(k_optimum.T)"
   ]
  },
  {
   "cell_type": "markdown",
   "metadata": {},
   "source": [
    "Plot the model against the input data"
   ]
  },
  {
   "cell_type": "code",
   "execution_count": 12,
   "metadata": {},
   "outputs": [
    {
     "data": {
      "text/plain": [
       "<matplotlib.legend.Legend at 0x26f6a33cfa0>"
      ]
     },
     "execution_count": 12,
     "metadata": {},
     "output_type": "execute_result"
    },
    {
     "data": {
      "image/png": "[encoded data removed]",
      "text/plain": [
       "<Figure size 432x288 with 1 Axes>"
      ]
     },
     "metadata": {
      "needs_background": "light"
     },
     "output_type": "display_data"
    }
   ],
   "source": [
    "fig = plt.figure()\n",
    "ax = fig.add_subplot()\n",
    "a = ax.plot(x,y_rand,'.')\n",
    "b = ax.plot(x,y_model)\n",
    "ax.legend(a+b,['data','model'])"
   ]
  },
  {
   "cell_type": "markdown",
   "metadata": {},
   "source": [
    "And plot the residual as well"
   ]
  },
  {
   "cell_type": "code",
   "execution_count": 13,
   "metadata": {},
   "outputs": [
    {
     "data": {
      "text/plain": [
       "[<matplotlib.lines.Line2D at 0x26f6a3ac640>]"
      ]
     },
     "execution_count": 13,
     "metadata": {},
     "output_type": "execute_result"
    },
    {
     "data": {
      "image/png": "[encoded data removed]",
      "text/plain": [
       "<Figure size 432x288 with 1 Axes>"
      ]
     },
     "metadata": {
      "needs_background": "light"
     },
     "output_type": "display_data"
    }
   ],
   "source": [
    "plt.figure()\n",
    "plt.plot(x,y_model-y_rand)"
   ]
  },
  {
   "cell_type": "markdown",
   "metadata": {},
   "source": [
    "Now try other models, higher resolution data, and different domains"
   ]
  }
 ],
 "metadata": {
  "kernelspec": {
   "display_name": "Python 3",
   "language": "python",
   "name": "python3"
  },
  "language_info": {
   "codemirror_mode": {
    "name": "ipython",
    "version": 3
   },
   "file_extension": ".py",
   "mimetype": "text/x-python",
   "name": "python",
   "nbconvert_exporter": "python",
   "pygments_lexer": "ipython3",
   "version": "3.8.5"
  }
 },
 "nbformat": 4,
 "nbformat_minor": 4
}
