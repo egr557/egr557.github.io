{
 "cells": [
  {
   "cell_type": "markdown",
   "metadata": {},
   "source": [
    "# Sarrus Kinematics\n",
    "Thanks to James Arnold for sharing his solutions; I have modified and updated them to fit the desired solution / approach"
   ]
  },
  {
   "cell_type": "code",
   "execution_count": 1,
   "metadata": {},
   "outputs": [],
   "source": [
    "%matplotlib inline\n",
    "import matplotlib.pyplot as plt\n",
    "import numpy\n",
    "import scipy.optimize\n",
    "import numpy as np"
   ]
  },
  {
   "cell_type": "markdown",
   "metadata": {},
   "source": [
    "### 1. Make a table of link lengths corresponding to the vectors defined by the six heavy black lines. Please approximate the lengths of each link of the mechanism, as well as the device’s initial position. No need to match exactly with the original drawing."
   ]
  },
  {
   "cell_type": "markdown",
   "metadata": {},
   "source": [
    "#### <center> Table I. Approximate Link Lengths (arbitrary units) </center>\n",
    "| Link | Length |\n",
    "| --- | --- |\n",
    "| Link P0-P1 | 3.36 |\n",
    "| Link P1-P2 | 3.59 |\n",
    "| Link P2-P3 | 2.52 |\n",
    "| Link P3-P4 | 3.00 |\n",
    "| Link P4-P5 | 3.36 |\n",
    "| Link P5-P0 | 2.70 |"
   ]
  },
  {
   "cell_type": "markdown",
   "metadata": {},
   "source": [
    "#### <center> Table II. Joint Locations (arbitrary units) </center>\n",
    "| Point | X | Y |\n",
    "| --- | --- |  --- |\n",
    "| P0 | 0 | 0 |\n",
    "| P1 | 3.36 | 0 |\n",
    "| P2 | 4.16 | 3.51 |\n",
    "| P3 | 3.18 | 5.82 |\n",
    "| P4 | 0.18 | 5.82 |\n",
    "| P5 | -0.79 | 2.60 |"
   ]
  },
  {
   "cell_type": "markdown",
   "metadata": {},
   "source": [
    "### 2. Plot the mechanism in Python using the matplotlib.pyplot package, making sure to label each vertex over each line."
   ]
  },
  {
   "cell_type": "code",
   "execution_count": 2,
   "metadata": {},
   "outputs": [
    {
     "data": {
      "image/png": "[encoded data removed]",
      "text/plain": [
       "<Figure size 432x288 with 1 Axes>"
      ]
     },
     "metadata": {
      "needs_background": "light"
     },
     "output_type": "display_data"
    }
   ],
   "source": [
    "x_ini = [0, 3.36, 4.16, 3.18, 0.18, -0.79]\n",
    "y_ini = [0, 0, 3.51, 5.82, 5.82, 2.60]\n",
    "\n",
    "plt.figure()\n",
    "plt.axis('equal')\n",
    "plt.fill(x_ini, y_ini, facecolor='none', edgecolor='black', linewidth=3)\n",
    "plt.scatter(x_ini, y_ini)\n",
    "\n",
    "labels = [\"P0\", \"P1\", \"P2\", \"P3\", \"P4\", \"P5\"]\n",
    "\n",
    "for i, labels in enumerate(labels):\n",
    "    plt.annotate(labels, (x_ini[i]+0.1, y_ini[i]+0.1), fontsize=\"12\")\n",
    "\n",
    "# Make the plot more readable\n",
    "plt.grid()\n",
    "plt.title(\"Mechanism with Labeled Vertices\")\n",
    "plt.xlabel(\"x units\")\n",
    "plt.ylabel(\"y units\")\n",
    "plt.show()"
   ]
  },
  {
   "cell_type": "markdown",
   "metadata": {},
   "source": [
    "### 3. Create an objective function whose error is zero when:\n",
    "#### a. All of the length constraints of the mechanism are correctly estimated\n",
    "#### b. The base of the robot is fixed to the ground and in a specified orientation\n",
    "#### c. The end-effector(defined by the link between P3 and P4) is parallel to the input link.\n",
    "#### d. The x-component of the distance between P0 and P4 is zero.\n",
    "#### e. The internal degree of freedom defined by q matches a value given or set by you."
   ]
  },
  {
   "cell_type": "code",
   "execution_count": 3,
   "metadata": {},
   "outputs": [],
   "source": [
    "# Define a function to calculate the distance between two coordinates\n",
    "def calc_dist(tuple1, tuple2):\n",
    "    array1 = []\n",
    "    array2 = []\n",
    "    \n",
    "    for i in tuple1:\n",
    "        array1.append(i)\n",
    "        \n",
    "    for i in tuple2:\n",
    "        array2.append(i)\n",
    "    \n",
    "    array1 = np.array(array1)\n",
    "    array2 = np.array(array2)\n",
    "    \n",
    "    vector = array2-array1\n",
    "    \n",
    "    dist = (vector.dot(vector))**.5\n",
    "    return dist\n",
    "    \n"
   ]
  },
  {
   "cell_type": "code",
   "execution_count": 4,
   "metadata": {},
   "outputs": [],
   "source": [
    "\n",
    "# Desired link lengths\n",
    "len01_des = 3.36\n",
    "len12_des = 3.59\n",
    "len23_des = 2.52\n",
    "len34_des = 3.00\n",
    "len45_des = 3.36\n",
    "len50_des = 2.70\n",
    "\n",
    "# Desired location of p0\n",
    "p0_des = 0,0\n",
    "\n",
    "q_des = 3\n",
    "    \n",
    "    \n",
    "def objective_function(variables):\n",
    "\n",
    "    # Get all the variables out\n",
    "    x0,y0,x1,y1,x2,y2,x3,y3,x4,y4,x5,y5 = variables\n",
    "    \n",
    "    p0 = x0,y0\n",
    "    p1 = x1,y1\n",
    "    p2 = x2,y2\n",
    "    p3 = x3,y3\n",
    "    p4 = x4,y4\n",
    "    p5 = x5,y5\n",
    "    \n",
    "    # Calculate the actual link lengths\n",
    "    link01 = calc_dist(p0,p1)\n",
    "    link12 = calc_dist(p1,p2)\n",
    "    link23 = calc_dist(p2,p3)\n",
    "    link34 = calc_dist(p3,p4)\n",
    "    link45 = calc_dist(p4,p5)\n",
    "    link50 = calc_dist(p5,p0)\n",
    "    \n",
    "    # Calculate distance defining q\n",
    "    q_dist = calc_dist(p5,p2)\n",
    "    \n",
    "    # x component of the distance between p0 and p4 is zero.\n",
    "    vertAlign = p0[0]-p4[0]\n",
    "    \n",
    "    # Parallel end effector (want y components of p4 and p3 to be equal)\n",
    "    # Note that the base is already fixes, so this will be parallel\n",
    "    parallel = p3[1]-p4[1]\n",
    "    \n",
    "    # Define the error being minimized\n",
    "    error = []\n",
    "    # Append all errors -- should be 12\n",
    "    error.append(link01-len01_des)\n",
    "    error.append(link12-len12_des)\n",
    "    error.append(link23-len23_des)\n",
    "    error.append(link34-len34_des)\n",
    "    error.append(link45-len45_des)\n",
    "    error.append(link50-len50_des)\n",
    "    # p0 is fixed at the origin\n",
    "    error.append(x0-0)\n",
    "    error.append(y0-0)\n",
    "    #p1 is horizontal with p0\n",
    "    error.append(y1-0)\n",
    "    #specify input length\n",
    "    error.append(q_dist-q_des)\n",
    "    #extra two sarrus constraints usually taken care of by 3d mechanisms\n",
    "    error.append(vertAlign)\n",
    "    error.append(parallel)\n",
    "    \n",
    "    error = np.array(error)\n",
    "    error = (error.dot(error))**.5\n",
    "    \n",
    "    return error  "
   ]
  },
  {
   "cell_type": "markdown",
   "metadata": {},
   "source": [
    "### 4. Solve this function three times using the `scipy.optimize.minimize` function: once for each of three states where the input  is varied by a small, constant amount. Select an initial guess for the state of the system that is close to the right answer but not exact; update the initial guess with the results of the prior solution after that.\n",
    "#### a. Show the result of each evaluation. This should demonstrate that the error in the result after each calculation is small (less than ~1e-3).\n",
    "#### b. Plot the device in each of its three configurations (within a single figure)"
   ]
  },
  {
   "cell_type": "code",
   "execution_count": 5,
   "metadata": {},
   "outputs": [],
   "source": [
    "#specify input\n",
    "dq = 1\n",
    "all_q_des = [4,4+dq,4+2*dq]"
   ]
  },
  {
   "cell_type": "code",
   "execution_count": 6,
   "metadata": {},
   "outputs": [
    {
     "name": "stdout",
     "output_type": "stream",
     "text": [
      "Current input q: 4\n",
      "0 iteration error: 1.261580085121429e-07\n",
      "1 iteration error: 1.2387358732047626e-07\n",
      "2 iteration error: 1.2387358732047626e-07\n",
      "Current input q: 5\n",
      "0 iteration error: 1.184267370237846e-07\n",
      "1 iteration error: 1.0918563268433126e-07\n",
      "2 iteration error: 1.091731057938267e-07\n",
      "Current input q: 6\n",
      "0 iteration error: 1.1818253137711639e-07\n",
      "1 iteration error: 1.0830500890856397e-07\n",
      "2 iteration error: 1.0830500890856397e-07\n"
     ]
    },
    {
     "data": {
      "image/png": "[encoded data removed]",
      "text/plain": [
       "<Figure size 432x288 with 1 Axes>"
      ]
     },
     "metadata": {
      "needs_background": "light"
     },
     "output_type": "display_data"
    }
   ],
   "source": [
    "plt.figure()\n",
    "\n",
    "posEnd = []\n",
    "\n",
    "edgecolors = [\"red\", \"green\", \"blue\"]\n",
    "\n",
    "#specify the index representing the end-effector\n",
    "output_index = 4\n",
    "\n",
    "output = []\n",
    "\n",
    "for j in range(3):\n",
    "    q_des =  all_q_des[j]\n",
    "    \n",
    "    print(\"Current input q:\", q_des)\n",
    "    \n",
    "    ini = x_ini + y_ini\n",
    "    ini[::2] = x_ini\n",
    "    ini[1::2] = y_ini\n",
    "\n",
    "    # Do 3 iterations of the optimization\n",
    "    for k in range(3):\n",
    "        result = scipy.optimize.minimize(objective_function,ini)\n",
    "        error = objective_function(result.x)\n",
    "        print(k, \"iteration error:\", error)\n",
    "        ini = result.x\n",
    "\n",
    "    found = result.x.copy()\n",
    "    found=found.reshape((6,2))\n",
    "    output.append(found)\n",
    "    \n",
    "    #posEnd.append(found[output_index,1])\n",
    "\n",
    "    plt.axis('equal')\n",
    "    plt.fill(found[:,0], found[:,1], facecolor='none', edgecolor=edgecolors[j], linewidth=1)\n",
    "    plt.scatter(found[0], found[1])\n",
    "\n",
    "# Make the plot more readable\n",
    "\n",
    "labels = [\"P0\", \"P1\", \"P2\", \"P3\", \"P4\", \"P5\"]\n",
    "\n",
    "output = numpy.array(output)\n",
    "\n",
    "for i, labels in enumerate(labels):\n",
    "    plt.annotate(labels, (found[i,0]+0.2, found[i,1]+0.2), fontsize=\"12\")\n",
    "        \n",
    "plt.grid()\n",
    "plt.title(\"Mechanism with Labeled Vertices\")\n",
    "plt.xlabel(\"x units\")\n",
    "plt.ylabel(\"y units\")\n",
    "\n",
    "#find the difference between the two nearest neighbors\n",
    "dxdy_2 = output[2,output_index,:]-output[0,output_index,:]\n",
    "\n",
    "#plot the slope on the middle position\n",
    "plt.plot(*output[1,output_index,:],\"o\",color=(1,.5,.5,1),zorder=10)\n",
    "plt.quiver(*output[1,output_index,:],*dxdy_2, scale=4,color=(1,.5,.5,1),zorder=10)\n",
    "plt.show()\n"
   ]
  },
  {
   "cell_type": "markdown",
   "metadata": {},
   "source": [
    "### 5. Now approximate the rate of change of the middle point of the trajectory by finding the slope between the first and third point. Define a point on the mechanism that serves as the “output” or “end-effector.”2\n",
    "#### a. Calculate the slope in python and print the result.\n",
    "#### b. Plot the 3-point trajectory.\n",
    "#### c. Overplot the slope on the middle point using an arrow."
   ]
  },
  {
   "cell_type": "code",
   "execution_count": 7,
   "metadata": {},
   "outputs": [
    {
     "data": {
      "text/plain": [
       "-177742674.51558852"
      ]
     },
     "execution_count": 7,
     "metadata": {},
     "output_type": "execute_result"
    }
   ],
   "source": [
    "slope = dxdy_2[1]/dxdy_2[0]\n",
    "slope"
   ]
  },
  {
   "cell_type": "markdown",
   "metadata": {},
   "source": [
    "The slope is _nearly_ infinite(vertical) because the y-component is nonzero while the x-component of the slope is essentially zero (down to machine precision).  This corresponds to the mechanism moving only up or down"
   ]
  },
  {
   "cell_type": "markdown",
   "metadata": {},
   "source": [
    "### 6. Compute the Jacobian Matrix in that middle state. This should be a 2x1 matrix, as it is a 2D mechanism."
   ]
  },
  {
   "cell_type": "markdown",
   "metadata": {},
   "source": [
    "With the input q considered as the x component of a frame whose x-axis is aligned with the vector from P5 to P2, the input matrix can be written as:\n",
    "\n",
    "$$\n",
    "\\mathbf{q}\n",
    "= \n",
    "\\begin {bmatrix} \n",
    "q \\\\ 0 \\end{bmatrix}$$\n",
    "\n",
    "Therefore, the derivative of this matrix will be:\n",
    "$$\n",
    "\\mathbf{\\dot{q}}\n",
    "= \n",
    "\\begin {bmatrix} \n",
    "\\dot{q} \\\\ 0 \\end{bmatrix}$$\n",
    "\n",
    "The output of the mechanism is the vertical motion of the end-effector at point P4:\n",
    "$$\n",
    "{\\vec{r}} = \\mathbf{r}\n",
    "= \\mathbf{{p_4}-{p_0}} =\n",
    "\\begin {bmatrix} \n",
    "x_4-x_0\\\\ y_4-y_0 \\end{bmatrix}$$\n",
    "\n",
    "Its derivative will be:\n",
    "$$\n",
    "{\\dot{\\vec{r}}}\n",
    "= \n",
    "\\begin {bmatrix} \n",
    "\\dot{x}\\\\ \\dot{y} \\end{bmatrix}$$\n",
    "\n",
    "The equation for the Jacobian is:\n",
    "$$\n",
    "\\dot{\\vec{r}}=\\mathbf{\\dot{r}}\n",
    "=\n",
    "\\mathbf{J} \n",
    "\\mathbf{\\dot{q}}\n",
    "$$\n",
    "\n",
    "The Jacobian related the input motion to the output, so it is analogous to the slope found in the previous example. Since the y component of the input vector will always bezero, the partial derivative for this component in the Jacobian will also be zero. \n",
    "\n",
    "Remember in our case, we computed dy & dx in terms of the two nearest neighbors, getting $2 \\begin{bmatrix}\\Delta y\\\\\\Delta x\\end{bmatrix}$, so to get J we need to divide by $2\\Delta y$\n",
    "\n",
    "So the Jacobian (at middle point in the trajectory) is as follows:\n",
    "\n"
   ]
  },
  {
   "cell_type": "code",
   "execution_count": 8,
   "metadata": {},
   "outputs": [
    {
     "data": {
      "text/plain": [
       "array([[ 1.79149529e-09],\n",
       "       [-3.18425165e-01]])"
      ]
     },
     "execution_count": 8,
     "metadata": {},
     "output_type": "execute_result"
    }
   ],
   "source": [
    "J = numpy.array([dxdy_2]).T/(2*dq)\n",
    "J"
   ]
  },
  {
   "cell_type": "markdown",
   "metadata": {},
   "source": [
    "### 7. Now, assume that a force $\\vec{f}$ of $f=\\left[\\begin{matrix}10\\\\-10\\end{matrix}\\right]$ (2D) is applied to the end-effector. Compute the force experienced at the input."
   ]
  },
  {
   "cell_type": "markdown",
   "metadata": {},
   "source": [
    "The equation for mapping between the input and output forces can be written as:\n",
    "\n",
    "$$\n",
    "\\mathbf{F_{in}}\n",
    "=\n",
    "\\mathbf{J^{T}} \n",
    "\\mathbf{F_{out}}\n",
    "$$\n",
    "\n",
    "Therefore, for the given force at the end-effector and substituting the previously found Jacobian:\n",
    "$$\n",
    "\\mathbf{F_{in}}\n",
    "=\n",
    "\\mathbf{J}\n",
    "\\begin {bmatrix} \n",
    "10 \\\\ -10 \\end{bmatrix}$$\n",
    "\n",
    "So, the force at the input (at q) is found to be:"
   ]
  },
  {
   "cell_type": "code",
   "execution_count": 9,
   "metadata": {},
   "outputs": [
    {
     "data": {
      "text/plain": [
       "array([[3.18425166]])"
      ]
     },
     "execution_count": 9,
     "metadata": {},
     "output_type": "execute_result"
    }
   ],
   "source": [
    "f=numpy.array([[10,-10]]).T\n",
    "t = J.T.dot(f)\n",
    "t"
   ]
  },
  {
   "cell_type": "markdown",
   "metadata": {},
   "source": [
    "### 8. What happens when the force $\\vec{f}$ applied to the end-effector changes to $f=\\left[\\begin{matrix}0\\\\-10\\end{matrix}\\right]$ (2D). Provide a rationale as to how or why this answer contrasts with the previous one."
   ]
  },
  {
   "cell_type": "markdown",
   "metadata": {},
   "source": [
    "Following the same procedure as in #7:\n",
    "$$\n",
    "\\mathbf{F_{in}}\n",
    "=\n",
    "\\mathbf{J}^T\\begin {bmatrix} \n",
    "0 \\\\ -10 \\end{bmatrix}\n",
    "$$"
   ]
  },
  {
   "cell_type": "code",
   "execution_count": 10,
   "metadata": {},
   "outputs": [
    {
     "data": {
      "text/plain": [
       "array([[3.18425165]])"
      ]
     },
     "execution_count": 10,
     "metadata": {},
     "output_type": "execute_result"
    }
   ],
   "source": [
    "f=numpy.array([[0,-10]]).T\n",
    "t = J.T.dot(numpy.array([[0,-10]]).T)\n",
    "t"
   ]
  },
  {
   "cell_type": "markdown",
   "metadata": {},
   "source": [
    "This answer doesn't change because components of the force pushing in the x-direction are transmitted completely through the mechanism's structural elements to ground, rather than transmitted to the actuator.  The clue is that the Jacobian's x-component is essentially zero.  Therefore, it shouldn't matter to a perfectly rigid mechanism how hard you push in the x-axis, only the y-axis is driven by the actuator."
   ]
  },
  {
   "cell_type": "markdown",
   "metadata": {},
   "source": [
    "### 9. Now, assume that the input is moving at a rate of 2.4 . How fast is the output moving?"
   ]
  },
  {
   "cell_type": "markdown",
   "metadata": {},
   "source": [
    "The Jacobian can be used to map from input to output speed as shown in the equation below:\n",
    "$$\n",
    "\\mathbf{\\dot{y}}\n",
    "=\n",
    "J\n",
    "{\\dot{q}}$$\n",
    "\n"
   ]
  },
  {
   "cell_type": "code",
   "execution_count": 11,
   "metadata": {},
   "outputs": [
    {
     "data": {
      "text/plain": [
       "array([[ 4.29958870e-09],\n",
       "       [-7.64220395e-01]])"
      ]
     },
     "execution_count": 11,
     "metadata": {},
     "output_type": "execute_result"
    }
   ],
   "source": [
    "y_dot = J.dot(numpy.array([[2.4]]))\n",
    "y_dot"
   ]
  },
  {
   "cell_type": "code",
   "execution_count": null,
   "metadata": {},
   "outputs": [],
   "source": []
  }
 ],
 "metadata": {
  "kernelspec": {
   "display_name": "Python 3",
   "language": "python",
   "name": "python3"
  },
  "language_info": {
   "codemirror_mode": {
    "name": "ipython",
    "version": 3
   },
   "file_extension": ".py",
   "mimetype": "text/x-python",
   "name": "python",
   "nbconvert_exporter": "python",
   "pygments_lexer": "ipython3",
   "version": "3.7.9"
  }
 },
 "nbformat": 4,
 "nbformat_minor": 2
}
